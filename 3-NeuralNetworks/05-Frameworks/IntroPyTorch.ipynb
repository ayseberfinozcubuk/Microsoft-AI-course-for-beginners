{
 "cells": [
  {
   "cell_type": "code",
   "execution_count": 1,
   "metadata": {},
   "outputs": [
    {
     "data": {
      "text/plain": [
       "'2.0.1+cpu'"
      ]
     },
     "execution_count": 1,
     "metadata": {},
     "output_type": "execute_result"
    }
   ],
   "source": [
    "# make sure that you have recent version of PyTorch installed\n",
    "import torch\n",
    "torch.__version__"
   ]
  },
  {
   "cell_type": "code",
   "execution_count": 2,
   "metadata": {},
   "outputs": [
    {
     "name": "stdout",
     "output_type": "stream",
     "text": [
      "tensor([[1, 2],\n",
      "        [3, 4]])\n",
      "tensor([[-0.9829,  0.3424, -0.6922],\n",
      "        [-0.8964, -0.4266,  0.3782],\n",
      "        [ 0.2547, -0.3908,  0.1500],\n",
      "        [-0.1732, -0.5665,  0.1495],\n",
      "        [ 0.6230,  1.6366, -0.4506],\n",
      "        [-0.4469,  1.6773,  1.6652],\n",
      "        [-0.3325, -0.3312,  0.9156],\n",
      "        [ 0.8366, -0.9092,  0.4820],\n",
      "        [-0.0655,  0.7852,  0.3079],\n",
      "        [ 0.3369,  0.3893, -0.3994]])\n"
     ]
    }
   ],
   "source": [
    "# Simple Tensors\n",
    "\n",
    "a = torch.tensor([[1,2],[3,4]])\n",
    "print(a)\n",
    "a = torch.randn(size=(10,3))\n",
    "print(a)"
   ]
  },
  {
   "cell_type": "code",
   "execution_count": 3,
   "metadata": {},
   "outputs": [
    {
     "name": "stdout",
     "output_type": "stream",
     "text": [
      "tensor([[ 0.0000,  0.0000,  0.0000],\n",
      "        [ 0.0865, -0.7690,  1.0704],\n",
      "        [ 1.2376, -0.7332,  0.8422],\n",
      "        [ 0.8097, -0.9089,  0.8417],\n",
      "        [ 1.6059,  1.2942,  0.2416],\n",
      "        [ 0.5360,  1.3349,  2.3574],\n",
      "        [ 0.6504, -0.6736,  1.6078],\n",
      "        [ 1.8195, -1.2516,  1.1742],\n",
      "        [ 0.9173,  0.4428,  1.0001],\n",
      "        [ 1.3198,  0.0469,  0.2928]])\n",
      "[0.37423143 1.4083248  0.50047904]\n"
     ]
    }
   ],
   "source": [
    "print(a-a[0])\n",
    "print(torch.exp(a)[0].numpy())  # extracts numpy-array from tensor"
   ]
  },
  {
   "cell_type": "code",
   "execution_count": 4,
   "metadata": {},
   "outputs": [
    {
     "name": "stdout",
     "output_type": "stream",
     "text": [
      "Result when adding out-of-place: tensor(8)\n",
      "Result after adding in-place: tensor(8)\n"
     ]
    }
   ],
   "source": [
    "# In-place and out-of-place Operations\n",
    "\n",
    "u = torch.tensor(5)\n",
    "print(\"Result when adding out-of-place:\",u.add(torch.tensor(3)))\n",
    "u.add_(torch.tensor(3))\n",
    "print(\"Result after adding in-place:\", u)"
   ]
  },
  {
   "cell_type": "code",
   "execution_count": 5,
   "metadata": {},
   "outputs": [
    {
     "name": "stdout",
     "output_type": "stream",
     "text": [
      "tensor([-0.8461,  2.2065,  2.5062])\n"
     ]
    }
   ],
   "source": [
    "# sum or all rows in a matrix\n",
    "\n",
    "s = torch.zeros_like(a[0])\n",
    "for i in a:\n",
    "  s.add_(i)\n",
    "\n",
    "print(s)"
   ]
  },
  {
   "cell_type": "code",
   "execution_count": 6,
   "metadata": {},
   "outputs": [
    {
     "data": {
      "text/plain": [
       "tensor([-0.8461,  2.2065,  2.5062])"
      ]
     },
     "execution_count": 6,
     "metadata": {},
     "output_type": "execute_result"
    }
   ],
   "source": [
    "torch.sum(a,axis=0)"
   ]
  },
  {
   "cell_type": "code",
   "execution_count": 7,
   "metadata": {},
   "outputs": [
    {
     "name": "stdout",
     "output_type": "stream",
     "text": [
      "tensor([[ 0.1437,  0.2386],\n",
      "        [-0.0186, -0.2377]])\n"
     ]
    }
   ],
   "source": [
    "# Computing Gradients\n",
    "\n",
    "a = torch.randn(size=(2, 2), requires_grad=True)\n",
    "b = torch.randn(size=(2, 2))\n",
    "\n",
    "c = torch.mean(torch.sqrt(torch.square(a) + torch.square(b)))  # Do some math using `a`   -   tensor(2.2843, grad_fn=<MeanBackward0>) \n",
    "\n",
    "c.backward() # call backward() to compute all gradients\n",
    "# This function triggers automatic differentiation and computes gradients for all tensors that were involved in the computation of c.\n",
    "# In this case, it computes the gradient of c with respect to a.\n",
    "\n",
    "# What's the gradient of `c` with respect to `a`?\n",
    "print(a.grad)   # Tensor that contains the gradient values. These gradient values represent how a small change in each element of 'a' would affect the value of 'c'.\n"
   ]
  },
  {
   "cell_type": "code",
   "execution_count": 8,
   "metadata": {},
   "outputs": [
    {
     "name": "stdout",
     "output_type": "stream",
     "text": [
      "tensor([[ 0.4312,  0.7159],\n",
      "        [-0.0558, -0.7132]])\n",
      "tensor([[ 0.1437,  0.2386],\n",
      "        [-0.0186, -0.2377]])\n"
     ]
    }
   ],
   "source": [
    "c = torch.mean(torch.sqrt(torch.square(a) + torch.square(b)))\n",
    "c.backward(retain_graph=True)\n",
    "c.backward(retain_graph=True)\n",
    "print(a.grad)\n",
    "a.grad.zero_()  # to restart computing gradients from scratch, resets grad field to 0 explicitly\n",
    "c.backward()\n",
    "print(a.grad)\n"
   ]
  },
  {
   "cell_type": "code",
   "execution_count": 9,
   "metadata": {},
   "outputs": [
    {
     "name": "stdout",
     "output_type": "stream",
     "text": [
      "tensor(1.8578, grad_fn=<MeanBackward0>)\n"
     ]
    }
   ],
   "source": [
    "# For each tensor that has the requires_grad flag set to True,\n",
    "# PyTorch maintains a special function called grad_fn, which computes the derivative of the expression according to chain differentiation rule\n",
    "\n",
    "print(c)    # Here c is computed using mean function, thus grad_fn point to a function called MeanBackward."
   ]
  },
  {
   "cell_type": "code",
   "execution_count": 10,
   "metadata": {},
   "outputs": [
    {
     "name": "stdout",
     "output_type": "stream",
     "text": [
      "tensor([[ 0.7187,  0.2386],\n",
      "        [-0.0186, -1.1886]])\n"
     ]
    }
   ],
   "source": [
    "# computing Jacobians\n",
    "# if we want to compute the gradient of a tensor with respect to another tensor, PyTorch allows us to compute the product of a Jacobian matrix and a given vector.\n",
    "\n",
    "c = torch.sqrt(torch.square(a) + torch.square(b))\n",
    "c.backward(torch.eye(2)) # eye(2) means 2x2 identity matrix -    The size of v should be the same as the size of the original tensor, with respect to which we compute the gradient.\n",
    "print(a.grad)"
   ]
  },
  {
   "cell_type": "code",
   "execution_count": 11,
   "metadata": {},
   "outputs": [],
   "source": [
    "# Optimization Using Gradient Descent\n",
    "\n",
    "# Let's try to use automatic differentiation to find a minimum of a simple two-variable function f(x1, x2) = (x1-3)^2 + (x2+2)^2 .\n",
    "\n",
    "# defining starting value of x and the function f\n",
    "x = torch.zeros(2,requires_grad=True)\n",
    "f = lambda x : (x-torch.tensor([3,-2])).pow(2).sum()\n",
    "lr = 0.1"
   ]
  },
  {
   "cell_type": "code",
   "execution_count": 12,
   "metadata": {},
   "outputs": [
    {
     "name": "stdout",
     "output_type": "stream",
     "text": [
      "Step 0: x[0]=0.6000000238418579, x[1]=-0.4000000059604645\n",
      "Step 1: x[0]=1.0800000429153442, x[1]=-0.7200000286102295\n",
      "Step 2: x[0]=1.4639999866485596, x[1]=-0.9760000705718994\n",
      "Step 3: x[0]=1.7711999416351318, x[1]=-1.1808000802993774\n",
      "Step 4: x[0]=2.0169599056243896, x[1]=-1.3446400165557861\n",
      "Step 5: x[0]=2.2135679721832275, x[1]=-1.4757120609283447\n",
      "Step 6: x[0]=2.370854377746582, x[1]=-1.5805696249008179\n",
      "Step 7: x[0]=2.4966835975646973, x[1]=-1.6644556522369385\n",
      "Step 8: x[0]=2.597346782684326, x[1]=-1.7315645217895508\n",
      "Step 9: x[0]=2.677877426147461, x[1]=-1.7852516174316406\n",
      "Step 10: x[0]=2.7423019409179688, x[1]=-1.8282012939453125\n",
      "Step 11: x[0]=2.793841600418091, x[1]=-1.8625609874725342\n",
      "Step 12: x[0]=2.835073232650757, x[1]=-1.8900487422943115\n",
      "Step 13: x[0]=2.868058681488037, x[1]=-1.912039041519165\n",
      "Step 14: x[0]=2.894446849822998, x[1]=-1.929631233215332\n"
     ]
    }
   ],
   "source": [
    "for i in range(15):\n",
    "    y = f(x)\n",
    "    y.backward()\n",
    "    gr = x.grad\n",
    "    x.data.add_(-lr*gr)\n",
    "    x.grad.zero_()\n",
    "    print(\"Step {}: x[0]={}, x[1]={}\".format(i,x[0],x[1]))\n",
    "\n",
    "# we are approaching the minimum point at (3,-2)"
   ]
  },
  {
   "cell_type": "code",
   "execution_count": 13,
   "metadata": {},
   "outputs": [],
   "source": [
    "# Linear Regression\n",
    "\n",
    "# generating small synthetic dataset\n",
    "\n",
    "import numpy as np\n",
    "import matplotlib.pyplot as plt\n",
    "from sklearn.datasets import make_classification, make_regression\n",
    "from sklearn.model_selection import train_test_split\n",
    "import random"
   ]
  },
  {
   "cell_type": "code",
   "execution_count": 14,
   "metadata": {},
   "outputs": [
    {
     "data": {
      "text/plain": [
       "<matplotlib.collections.PathCollection at 0x16d22162610>"
      ]
     },
     "execution_count": 14,
     "metadata": {},
     "output_type": "execute_result"
    },
    {
     "data": {
      "image/png": "[encoded data removed]",
      "text/plain": [
       "<Figure size 640x480 with 1 Axes>"
      ]
     },
     "metadata": {},
     "output_type": "display_data"
    }
   ],
   "source": [
    "np.random.seed(13) # pick the seed for reproducibility - change it to explore the effects of random variations\n",
    "\n",
    "train_x = np.linspace(0, 3, 120)\n",
    "train_labels = 2 * train_x + 0.9 + np.random.randn(*train_x.shape) * 0.5    # at (*train_x.shape), * in the beginning of a function \n",
    "                                                                            # is used to unpack the elements of an iterable (e.g., a list, tuple, or array) \n",
    "                                                                            # and pass them as separate arguments to a function.\n",
    "plt.scatter(train_x,train_labels)"
   ]
  },
  {
   "cell_type": "code",
   "execution_count": 15,
   "metadata": {},
   "outputs": [],
   "source": [
    "# Let's define our model and loss function\n",
    "\n",
    "input_dim = 1\n",
    "output_dim = 1\n",
    "learning_rate = 0.1\n",
    "\n",
    "# This is our weight matrix\n",
    "w = torch.tensor([100.0],requires_grad=True,dtype=torch.float32)\n",
    "# This is our bias vector\n",
    "b = torch.zeros(size=(output_dim,),requires_grad=True)\n",
    "\n",
    "def f(x):\n",
    "    return torch.matmul(x,w) + b\n",
    "\n",
    "def compute_loss(labels, predictions):\n",
    "    return torch.mean(torch.square(labels - predictions))"
   ]
  },
  {
   "cell_type": "code",
   "execution_count": 16,
   "metadata": {},
   "outputs": [],
   "source": [
    "# training the model on a series of minibatches, uing gradient descent\n",
    "\n",
    "def train_on_batch(x, y):\n",
    "    predictions = f(x)\n",
    "    loss = compute_loss(y, predictions)\n",
    "    loss.backward()\n",
    "    w.data.sub_(learning_rate * w.grad)\n",
    "    b.data.sub_(learning_rate * b.grad)\n",
    "    w.grad.zero_()\n",
    "    b.grad.zero_()\n",
    "    return loss"
   ]
  },
  {
   "cell_type": "code",
   "execution_count": 17,
   "metadata": {},
   "outputs": [],
   "source": [
    "# Shuffle the data.\n",
    "indices = np.random.permutation(len(train_x))\n",
    "features = torch.tensor(train_x[indices],dtype=torch.float32)\n",
    "labels = torch.tensor(train_labels[indices],dtype=torch.float32)\n"
   ]
  },
  {
   "cell_type": "code",
   "execution_count": 18,
   "metadata": {},
   "outputs": [
    {
     "name": "stdout",
     "output_type": "stream",
     "text": [
      "Epoch 0: last batch loss = 94.5247\n",
      "Epoch 1: last batch loss = 9.3428\n",
      "Epoch 2: last batch loss = 1.4166\n",
      "Epoch 3: last batch loss = 0.5224\n",
      "Epoch 4: last batch loss = 0.3807\n",
      "Epoch 5: last batch loss = 0.3495\n",
      "Epoch 6: last batch loss = 0.3413\n",
      "Epoch 7: last batch loss = 0.3390\n",
      "Epoch 8: last batch loss = 0.3384\n",
      "Epoch 9: last batch loss = 0.3382\n"
     ]
    }
   ],
   "source": [
    "batch_size = 4\n",
    "for epoch in range(10):\n",
    "    for i in range(0,len(features),batch_size):\n",
    "        loss = train_on_batch(features[i:i+batch_size].view(-1,1),labels[i:i+batch_size])   # .view() method is used to reshape a tensor while keeping the same data. \n",
    "                                                                                            # -1: It tells PyTorch to compute that dimension such that it maintains the total number of elements.\n",
    "                                                                                            # 1: This specifies that you want the resulting tensor to have 1 column.\n",
    "    print('Epoch %d: last batch loss = %.4f' % (epoch, float(loss)))"
   ]
  },
  {
   "cell_type": "code",
   "execution_count": 19,
   "metadata": {},
   "outputs": [
    {
     "data": {
      "text/plain": [
       "(tensor([1.8617], requires_grad=True), tensor([1.0711], requires_grad=True))"
      ]
     },
     "execution_count": 19,
     "metadata": {},
     "output_type": "execute_result"
    }
   ],
   "source": [
    "# obtained optimized parameters W and b\n",
    "#  their values are similar to the original values used when generating the dataset (W = 2, b = 1)\n",
    "w,b"
   ]
  },
  {
   "cell_type": "code",
   "execution_count": 20,
   "metadata": {},
   "outputs": [
    {
     "data": {
      "text/plain": [
       "[<matplotlib.lines.Line2D at 0x16d22173b10>]"
      ]
     },
     "execution_count": 20,
     "metadata": {},
     "output_type": "execute_result"
    },
    {
     "data": {
      "image/png": "[encoded data removed]",
      "text/plain": [
       "<Figure size 640x480 with 1 Axes>"
      ]
     },
     "metadata": {},
     "output_type": "display_data"
    }
   ],
   "source": [
    "plt.scatter(train_x,train_labels)\n",
    "x = np.array([min(train_x),max(train_x)])\n",
    "\n",
    "# Disabling gradient calculation is useful for inference, when you are sure\n",
    "# that you will not call Tensor.backward(). It will reduce memory consumption for computations that would otherwise have requires_grad=True.\n",
    "with torch.no_grad():   \n",
    "    y = w.numpy()*x+b.numpy()\n",
    "plt.plot(x,y,color='red')"
   ]
  },
  {
   "cell_type": "code",
   "execution_count": 21,
   "metadata": {},
   "outputs": [
    {
     "name": "stdout",
     "output_type": "stream",
     "text": [
      "Doing computations on cpu\n",
      "Epoch 0: last batch loss = 94.5247\n",
      "Epoch 1: last batch loss = 9.3428\n",
      "Epoch 2: last batch loss = 1.4166\n",
      "Epoch 3: last batch loss = 0.5224\n",
      "Epoch 4: last batch loss = 0.3807\n",
      "Epoch 5: last batch loss = 0.3495\n",
      "Epoch 6: last batch loss = 0.3413\n",
      "Epoch 7: last batch loss = 0.3390\n",
      "Epoch 8: last batch loss = 0.3384\n",
      "Epoch 9: last batch loss = 0.3382\n"
     ]
    }
   ],
   "source": [
    "device = 'cuda' if torch.cuda.is_available() else 'cpu'\n",
    "\n",
    "print('Doing computations on '+device)\n",
    "\n",
    "### Changes here: indicate device\n",
    "w = torch.tensor([100.0],requires_grad=True,dtype=torch.float32,device=device)\n",
    "b = torch.zeros(size=(output_dim,),requires_grad=True,device=device)\n",
    "\n",
    "def f(x):\n",
    "    return torch.matmul(x,w) + b\n",
    "\n",
    "def compute_loss(labels, predictions):\n",
    "    return torch.mean(torch.square(labels - predictions))\n",
    "\n",
    "def train_on_batch(x, y):\n",
    "    predictions = f(x)\n",
    "    loss = compute_loss(y, predictions)\n",
    "    loss.backward()\n",
    "    w.data.sub_(learning_rate * w.grad)\n",
    "    b.data.sub_(learning_rate * b.grad)\n",
    "    w.grad.zero_()\n",
    "    b.grad.zero_()\n",
    "    return loss\n",
    "\n",
    "\n",
    "batch_size = 4\n",
    "for epoch in range(10):\n",
    "    for i in range(0,len(features),batch_size):\n",
    "        ### Changes here: move data to required device\n",
    "        loss = train_on_batch(features[i:i+batch_size].view(-1,1).to(device),labels[i:i+batch_size].to(device)) # move all tensors to this device using a call .to(device)\n",
    "    print('Epoch %d: last batch loss = %.4f' % (epoch, float(loss)))\n"
   ]
  },
  {
   "cell_type": "code",
   "execution_count": 22,
   "metadata": {},
   "outputs": [
    {
     "name": "stdout",
     "output_type": "stream",
     "text": [
      "None\n"
     ]
    }
   ],
   "source": [
    "print(torch.version.cuda)"
   ]
  },
  {
   "cell_type": "code",
   "execution_count": 23,
   "metadata": {},
   "outputs": [],
   "source": [
    "# Classification\n",
    "\n",
    "# generating sample data\n",
    "np.random.seed(0) # pick the seed for reproducibility - change it to explore the effects of random variations\n",
    "\n",
    "n = 100\n",
    "X, Y = make_classification(n_samples = n, n_features=2,\n",
    "                           n_redundant=0, n_informative=2, flip_y=0.1,class_sep=1.5)\n",
    "X = X.astype(np.float32)\n",
    "Y = Y.astype(np.int32)\n",
    "\n",
    "split = [ 70*n//100, (15+70)*n//100 ]   # The // operator is used for floor division\n",
    "train_x, valid_x, test_x = np.split(X, split)   # X[0:69,:], X[70:84,:], X[85:99,:]\n",
    "train_labels, valid_labels, test_labels = np.split(Y, split)    # Y[0:69,:], Y[70:84,:], Y[85:99,:]\n"
   ]
  },
  {
   "cell_type": "code",
   "execution_count": 24,
   "metadata": {},
   "outputs": [],
   "source": [
    "def plot_dataset(features, labels, W=None, b=None):\n",
    "    # prepare the plot\n",
    "    fig, ax = plt.subplots(1,1)\n",
    "    ax.set_xlabel('$x_i[0]$ -- (feature 1)')\n",
    "    ax.set_ylabel('$x_i[1]$ -- (feature 2)')\n",
    "    colors = ['r' if l else 'b' for l in labels]\n",
    "    ax.scatter(features[:, 0], features[:, 1], marker='o', c=colors, s=100, alpha=0.5)\n",
    "    if W is not None:\n",
    "        min_x = min(features[:,0])\n",
    "        max_x = max(features[:,0])\n",
    "        min_y = min(features[:,1])*(1-.1)   # equivalent to *(1-0.1) = *(0.9)\n",
    "        max_y = max(features[:,1])*(1+.1)   # equivalent to *(1+0.1) = *(1.1)\n",
    "        cx = np.array([min_x, max_x],dtype=np.float32)\n",
    "        cy = (0.5-W[0]*cx-b)/W[1]\n",
    "        ax.plot(cx,cy,'g')\n",
    "        ax.set_ylim(min_y,max_y)\n",
    "    fig.show()"
   ]
  },
  {
   "cell_type": "code",
   "execution_count": 25,
   "metadata": {},
   "outputs": [
    {
     "name": "stderr",
     "output_type": "stream",
     "text": [
      "C:\\Users\\User\\AppData\\Local\\Temp\\ipykernel_17440\\1674085984.py:17: UserWarning: FigureCanvasAgg is non-interactive, and thus cannot be shown\n",
      "  fig.show()\n"
     ]
    },
    {
     "data": {
      "image/png": "[encoded data removed]",
      "text/plain": [
       "<Figure size 640x480 with 1 Axes>"
      ]
     },
     "metadata": {},
     "output_type": "display_data"
    }
   ],
   "source": [
    "plot_dataset(train_x,train_labels)"
   ]
  },
  {
   "cell_type": "code",
   "execution_count": 26,
   "metadata": {},
   "outputs": [],
   "source": [
    "# Training One-Layer Perceptron\n",
    "\n",
    "class Network():\n",
    "  def __init__(self):\n",
    "     self.W = torch.randn(size=(2,1),requires_grad=True)\n",
    "     self.b = torch.zeros(size=(1,),requires_grad=True)\n",
    "\n",
    "  def forward(self,x):\n",
    "    return torch.matmul(x,self.W)+self.b\n",
    "\n",
    "  def zero_grad(self):\n",
    "    self.W.data.zero_() # used W.data.zero_() instead of W.zero_(), because we cannot directly modify a tensor that is being tracked using Autograd mechanism.\n",
    "    self.b.data.zero_()\n",
    "\n",
    "  def update(self,lr=0.1):\n",
    "    self.W.data.sub_(lr*self.W.grad)\n",
    "    self.b.data.sub_(lr*self.b)\n",
    "\n",
    "net = Network()"
   ]
  },
  {
   "cell_type": "code",
   "execution_count": 27,
   "metadata": {},
   "outputs": [],
   "source": [
    "# The call to binary_cross_entropy_with_logits is equivalent to a call to sigmoid, followed by a call to binary_crossentropy\n",
    "\n",
    "def train_on_batch(net, x, y):\n",
    "    z = net.forward(x).flatten()\n",
    "    loss = torch.nn.functional.binary_cross_entropy_with_logits(input=z,target=y)   # nn stands for 'neural network'\n",
    "    net.zero_grad()\n",
    "    loss.backward()\n",
    "    net.update()\n",
    "    return loss"
   ]
  },
  {
   "cell_type": "code",
   "execution_count": 28,
   "metadata": {},
   "outputs": [
    {
     "data": {
      "text/plain": [
       "[tensor([[ 1.5442,  2.5290],\n",
       "         [-1.6284,  0.0772],\n",
       "         [-1.7141,  2.4770],\n",
       "         [-1.4951,  0.7320],\n",
       "         [-1.6899,  0.9243],\n",
       "         [-0.9474, -0.7681],\n",
       "         [ 3.8597, -2.2951],\n",
       "         [-1.3944,  1.4300],\n",
       "         [ 4.3627,  3.1333],\n",
       "         [-1.0973, -1.7011],\n",
       "         [-2.5532, -0.0777],\n",
       "         [-1.2661, -0.3167],\n",
       "         [ 0.3921,  1.8406],\n",
       "         [ 2.2091, -1.6045],\n",
       "         [ 1.8383, -1.4861],\n",
       "         [ 0.7173, -0.9718]]),\n",
       " tensor([1., 0., 0., 0., 0., 0., 1., 0., 1., 0., 0., 0., 1., 1., 1., 1.])]"
      ]
     },
     "execution_count": 28,
     "metadata": {},
     "output_type": "execute_result"
    }
   ],
   "source": [
    "# Dataset is the main source of data, it can be either Iterable or Map-style\n",
    "# Dataloader is responsible for loading the data from a dataset and splitting it into minibatches.\n",
    "\n",
    "# Create a tf.data.Dataset object for easy batched iteration\n",
    "dataset = torch.utils.data.TensorDataset(torch.tensor(train_x),torch.tensor(train_labels,dtype=torch.float32))\n",
    "dataloader = torch.utils.data.DataLoader(dataset,batch_size=16)\n",
    "\n",
    "list(dataloader)[0]"
   ]
  },
  {
   "cell_type": "code",
   "execution_count": 29,
   "metadata": {},
   "outputs": [
    {
     "name": "stdout",
     "output_type": "stream",
     "text": [
      "Epoch 0: last batch loss = 0.5701\n",
      "Epoch 1: last batch loss = 0.4662\n",
      "Epoch 2: last batch loss = 0.4024\n",
      "Epoch 3: last batch loss = 0.3590\n",
      "Epoch 4: last batch loss = 0.3276\n",
      "Epoch 5: last batch loss = 0.3035\n",
      "Epoch 6: last batch loss = 0.2844\n",
      "Epoch 7: last batch loss = 0.2688\n",
      "Epoch 8: last batch loss = 0.2558\n",
      "Epoch 9: last batch loss = 0.2446\n",
      "Epoch 10: last batch loss = 0.2350\n",
      "Epoch 11: last batch loss = 0.2266\n",
      "Epoch 12: last batch loss = 0.2192\n",
      "Epoch 13: last batch loss = 0.2125\n",
      "Epoch 14: last batch loss = 0.2065\n"
     ]
    }
   ],
   "source": [
    "for epoch in range(15):\n",
    "    for (x, y) in dataloader:\n",
    "        loss = train_on_batch(net,x,y)\n",
    "    print('Epoch %d: last batch loss = %.4f' % (epoch, float(loss)))"
   ]
  },
  {
   "cell_type": "code",
   "execution_count": 30,
   "metadata": {},
   "outputs": [
    {
     "name": "stdout",
     "output_type": "stream",
     "text": [
      "tensor([[1.3880],\n",
      "        [0.3591]], requires_grad=True) tensor([0.], requires_grad=True)\n"
     ]
    }
   ],
   "source": [
    "print(net.W,net.b)"
   ]
  },
  {
   "cell_type": "code",
   "execution_count": 31,
   "metadata": {},
   "outputs": [
    {
     "name": "stderr",
     "output_type": "stream",
     "text": [
      "C:\\Users\\User\\AppData\\Local\\Temp\\ipykernel_17440\\1674085984.py:17: UserWarning: FigureCanvasAgg is non-interactive, and thus cannot be shown\n",
      "  fig.show()\n"
     ]
    },
    {
     "data": {
      "image/png": "[encoded data removed]",
      "text/plain": [
       "<Figure size 640x480 with 1 Axes>"
      ]
     },
     "metadata": {},
     "output_type": "display_data"
    }
   ],
   "source": [
    "# plotting the line that separates two classes\n",
    "# Separation line is defined by the equation W * x + b = 0.5 \n",
    "\n",
    "plot_dataset(train_x,train_labels,net.W.detach().numpy(),net.b.detach().numpy())    \n",
    "# .detach(): This function is used to create a new tensor that shares data with the original tensor (net.W) but doesn't require gradients to be computed."
   ]
  },
  {
   "cell_type": "code",
   "execution_count": 32,
   "metadata": {},
   "outputs": [
    {
     "data": {
      "text/plain": [
       "tensor(0.8000)"
      ]
     },
     "execution_count": 32,
     "metadata": {},
     "output_type": "execute_result"
    }
   ],
   "source": [
    "# computes accuracy on the validation dataset\n",
    "\n",
    "pred = torch.sigmoid(net.forward(torch.tensor(valid_x)))    # A \"sigmoid\" is a mathematical function that maps any real-valued number to a value between 0 and 1.\n",
    "torch.mean(((pred.view(-1)>0.5)==(torch.tensor(valid_labels)>0.5)).type(torch.float32))\n"
   ]
  },
  {
   "cell_type": "code",
   "execution_count": 33,
   "metadata": {},
   "outputs": [
    {
     "name": "stdout",
     "output_type": "stream",
     "text": [
      "[Parameter containing:\n",
      "tensor([[-0.3722,  0.0675]], requires_grad=True), Parameter containing:\n",
      "tensor([0.2521], requires_grad=True)]\n"
     ]
    }
   ],
   "source": [
    "# Neural Networks and Optimizers\n",
    "\n",
    "# There are two methods to define your own neural network:\n",
    "#   Sequential, where you just specify a list of layers that comprise your network\n",
    "#   As a class inherited from torch.nn.Module\n",
    "\n",
    "# Most of the activation function and loss functions in PyTorch are available in two form: \n",
    "#   as a function (inside torch.nn.functional namespace) \n",
    "#   as a layer (inside torch.nn namespace)\n",
    "\n",
    "# training one-layer perceptron\n",
    "net = torch.nn.Linear(2,1) # 2 inputs, 1 output\n",
    "\n",
    "print(list(net.parameters()))   # weight matrix M and bias b"
   ]
  },
  {
   "cell_type": "code",
   "execution_count": 34,
   "metadata": {},
   "outputs": [],
   "source": [
    "# stochastic gradient descent optimizer\n",
    "optim = torch.optim.SGD(net.parameters(),lr=0.05)"
   ]
  },
  {
   "cell_type": "code",
   "execution_count": 35,
   "metadata": {},
   "outputs": [
    {
     "name": "stdout",
     "output_type": "stream",
     "text": [
      "Epoch 0: last batch loss = 0.8542512059211731, val acc = 0.3333333432674408\n",
      "Epoch 1: last batch loss = 0.7200689315795898, val acc = 0.46666666865348816\n",
      "Epoch 2: last batch loss = 0.6230071783065796, val acc = 0.7333333492279053\n",
      "Epoch 3: last batch loss = 0.5515496730804443, val acc = 0.8666666746139526\n",
      "Epoch 4: last batch loss = 0.4974711239337921, val acc = 0.800000011920929\n",
      "Epoch 5: last batch loss = 0.45538341999053955, val acc = 0.800000011920929\n",
      "Epoch 6: last batch loss = 0.4217906892299652, val acc = 0.800000011920929\n",
      "Epoch 7: last batch loss = 0.3943839371204376, val acc = 0.800000011920929\n",
      "Epoch 8: last batch loss = 0.37159860134124756, val acc = 0.800000011920929\n",
      "Epoch 9: last batch loss = 0.3523458242416382, val acc = 0.800000011920929\n"
     ]
    }
   ],
   "source": [
    "# training loop\n",
    "\n",
    "val_x = torch.tensor(valid_x)\n",
    "val_lab = torch.tensor(valid_labels)\n",
    "\n",
    "for ep in range(10):\n",
    "    for (x,y) in dataloader:\n",
    "        z = net(x).flatten()    # net(x) instead of net.forward(x), because nn.Module implements Python __call__() function\n",
    "        loss = torch.nn.functional.binary_cross_entropy_with_logits(z,y)\n",
    "        optim.zero_grad()\n",
    "        loss.backward()\n",
    "        optim.step()    # parameter update\n",
    "    acc = ((torch.sigmoid(net(val_x).flatten())>0.5).float()==val_lab).float().mean()\n",
    "    print(f\"Epoch {ep}: last batch loss = {loss}, val acc = {acc}\")"
   ]
  },
  {
   "cell_type": "code",
   "execution_count": 36,
   "metadata": {},
   "outputs": [
    {
     "name": "stdout",
     "output_type": "stream",
     "text": [
      "Epoch 0: last batch loss = 0.6357288956642151, val acc = 0.6666666865348816\n",
      "Epoch 1: last batch loss = 0.517389714717865, val acc = 0.7333333492279053\n",
      "Epoch 2: last batch loss = 0.42661163210868835, val acc = 0.800000011920929\n",
      "Epoch 3: last batch loss = 0.35987600684165955, val acc = 0.800000011920929\n",
      "Epoch 4: last batch loss = 0.31175974011421204, val acc = 0.800000011920929\n",
      "Epoch 5: last batch loss = 0.2770056426525116, val acc = 0.800000011920929\n",
      "Epoch 6: last batch loss = 0.25146618485450745, val acc = 0.800000011920929\n",
      "Epoch 7: last batch loss = 0.23220427334308624, val acc = 0.800000011920929\n",
      "Epoch 8: last batch loss = 0.217252716422081, val acc = 0.800000011920929\n",
      "Epoch 9: last batch loss = 0.20532192289829254, val acc = 0.800000011920929\n"
     ]
    },
    {
     "data": {
      "text/plain": [
       "[[tensor(0.6357, grad_fn=<BinaryCrossEntropyWithLogitsBackward0>),\n",
       "  tensor(0.6667)],\n",
       " [tensor(0.5174, grad_fn=<BinaryCrossEntropyWithLogitsBackward0>),\n",
       "  tensor(0.7333)],\n",
       " [tensor(0.4266, grad_fn=<BinaryCrossEntropyWithLogitsBackward0>),\n",
       "  tensor(0.8000)],\n",
       " [tensor(0.3599, grad_fn=<BinaryCrossEntropyWithLogitsBackward0>),\n",
       "  tensor(0.8000)],\n",
       " [tensor(0.3118, grad_fn=<BinaryCrossEntropyWithLogitsBackward0>),\n",
       "  tensor(0.8000)],\n",
       " [tensor(0.2770, grad_fn=<BinaryCrossEntropyWithLogitsBackward0>),\n",
       "  tensor(0.8000)],\n",
       " [tensor(0.2515, grad_fn=<BinaryCrossEntropyWithLogitsBackward0>),\n",
       "  tensor(0.8000)],\n",
       " [tensor(0.2322, grad_fn=<BinaryCrossEntropyWithLogitsBackward0>),\n",
       "  tensor(0.8000)],\n",
       " [tensor(0.2173, grad_fn=<BinaryCrossEntropyWithLogitsBackward0>),\n",
       "  tensor(0.8000)],\n",
       " [tensor(0.2053, grad_fn=<BinaryCrossEntropyWithLogitsBackward0>),\n",
       "  tensor(0.8000)]]"
      ]
     },
     "execution_count": 36,
     "metadata": {},
     "output_type": "execute_result"
    }
   ],
   "source": [
    "# generic train function\n",
    "\n",
    "def train(net, dataloader, val_x, val_lab, epochs=10, lr=0.05, loss_func=torch.nn.functional.binary_cross_entropy_with_logits):\n",
    "    epoch_data = []\n",
    "    optim = torch.optim.Adam(net.parameters(), lr=lr)   # Adam stands for \"Adaptive Moment Estimation,\"\n",
    "                                                        # combines Adagrad and RMSprop techniques\n",
    "                                                        # adaptive learning rates for each parameter\n",
    "    for ep in range(epochs):\n",
    "        for (x,y) in dataloader:\n",
    "            z = net(x).flatten()\n",
    "            loss = loss_func(z,y)\n",
    "            optim.zero_grad()\n",
    "            loss.backward()\n",
    "            optim.step()\n",
    "        acc = ((torch.sigmoid(net(val_x).flatten())>0.5).float()==val_lab).float().mean()\n",
    "        epoch_data.append([loss,acc])\n",
    "        print(f\"Epoch {ep}: last batch loss = {loss}, val acc = {acc}\")\n",
    "\n",
    "    return epoch_data\n",
    "\n",
    "net = torch.nn.Linear(2,1)\n",
    "\n",
    "train(net,dataloader,val_x,val_lab,lr=0.03)\n",
    "    "
   ]
  },
  {
   "cell_type": "code",
   "execution_count": 37,
   "metadata": {},
   "outputs": [
    {
     "name": "stdout",
     "output_type": "stream",
     "text": [
      "Sequential(\n",
      "  (0): Linear(in_features=2, out_features=5, bias=True)\n",
      "  (1): Sigmoid()\n",
      "  (2): Linear(in_features=5, out_features=1, bias=True)\n",
      ")\n"
     ]
    }
   ],
   "source": [
    "# Defining Network as a Sequence of Layers\n",
    "net = torch.nn.Sequential(torch.nn.Linear(2,5),torch.nn.Sigmoid(),torch.nn.Linear(5,1))\n",
    "print(net)"
   ]
  },
  {
   "cell_type": "code",
   "execution_count": 38,
   "metadata": {},
   "outputs": [
    {
     "name": "stdout",
     "output_type": "stream",
     "text": [
      "Epoch 0: last batch loss = 0.6562293171882629, val acc = 0.800000011920929\n",
      "Epoch 1: last batch loss = 0.5772157311439514, val acc = 0.800000011920929\n",
      "Epoch 2: last batch loss = 0.4823799431324005, val acc = 0.800000011920929\n",
      "Epoch 3: last batch loss = 0.38560500741004944, val acc = 0.800000011920929\n",
      "Epoch 4: last batch loss = 0.2975935935974121, val acc = 0.800000011920929\n",
      "Epoch 5: last batch loss = 0.2260218858718872, val acc = 0.800000011920929\n",
      "Epoch 6: last batch loss = 0.17051130533218384, val acc = 0.800000011920929\n",
      "Epoch 7: last batch loss = 0.12924429774284363, val acc = 0.800000011920929\n",
      "Epoch 8: last batch loss = 0.10106980800628662, val acc = 0.800000011920929\n",
      "Epoch 9: last batch loss = 0.08326981961727142, val acc = 0.800000011920929\n"
     ]
    },
    {
     "data": {
      "text/plain": [
       "[[tensor(0.6562, grad_fn=<BinaryCrossEntropyWithLogitsBackward0>),\n",
       "  tensor(0.8000)],\n",
       " [tensor(0.5772, grad_fn=<BinaryCrossEntropyWithLogitsBackward0>),\n",
       "  tensor(0.8000)],\n",
       " [tensor(0.4824, grad_fn=<BinaryCrossEntropyWithLogitsBackward0>),\n",
       "  tensor(0.8000)],\n",
       " [tensor(0.3856, grad_fn=<BinaryCrossEntropyWithLogitsBackward0>),\n",
       "  tensor(0.8000)],\n",
       " [tensor(0.2976, grad_fn=<BinaryCrossEntropyWithLogitsBackward0>),\n",
       "  tensor(0.8000)],\n",
       " [tensor(0.2260, grad_fn=<BinaryCrossEntropyWithLogitsBackward0>),\n",
       "  tensor(0.8000)],\n",
       " [tensor(0.1705, grad_fn=<BinaryCrossEntropyWithLogitsBackward0>),\n",
       "  tensor(0.8000)],\n",
       " [tensor(0.1292, grad_fn=<BinaryCrossEntropyWithLogitsBackward0>),\n",
       "  tensor(0.8000)],\n",
       " [tensor(0.1011, grad_fn=<BinaryCrossEntropyWithLogitsBackward0>),\n",
       "  tensor(0.8000)],\n",
       " [tensor(0.0833, grad_fn=<BinaryCrossEntropyWithLogitsBackward0>),\n",
       "  tensor(0.8000)]]"
      ]
     },
     "execution_count": 38,
     "metadata": {},
     "output_type": "execute_result"
    }
   ],
   "source": [
    "train(net,dataloader,val_x,val_lab)"
   ]
  },
  {
   "cell_type": "code",
   "execution_count": 39,
   "metadata": {},
   "outputs": [
    {
     "name": "stdout",
     "output_type": "stream",
     "text": [
      "MyNet(\n",
      "  (fc1): Linear(in_features=2, out_features=10, bias=True)\n",
      "  (func): ReLU()\n",
      "  (fc2): Linear(in_features=10, out_features=1, bias=True)\n",
      ")\n"
     ]
    }
   ],
   "source": [
    "# Defining a Network as a Class\n",
    "class MyNet(torch.nn.Module):   # inherited from torch.nn.Module\n",
    "    def __init__(self,hidden_size=10,func=torch.nn.Sigmoid()):\n",
    "        super().__init__()\n",
    "        self.fc1 = torch.nn.Linear(2,hidden_size)\n",
    "        self.func = func\n",
    "        self.fc2 = torch.nn.Linear(hidden_size,1)\n",
    "\n",
    "    def forward(self,x):\n",
    "        x = self.fc1(x)\n",
    "        x = self.func(x)\n",
    "        x = self.fc2(x)\n",
    "        return torch.Tensor(x)  # Make sure x is a tensor\n",
    "\n",
    "net = MyNet(func=torch.nn.ReLU())\n",
    "print(net)"
   ]
  },
  {
   "cell_type": "code",
   "execution_count": 40,
   "metadata": {},
   "outputs": [
    {
     "name": "stdout",
     "output_type": "stream",
     "text": [
      "Epoch 0: last batch loss = 0.6670229434967041, val acc = 0.5333333611488342\n",
      "Epoch 1: last batch loss = 0.6374803185462952, val acc = 0.5333333611488342\n",
      "Epoch 2: last batch loss = 0.6094790101051331, val acc = 0.6000000238418579\n",
      "Epoch 3: last batch loss = 0.5831548571586609, val acc = 0.6666666865348816\n",
      "Epoch 4: last batch loss = 0.5582507252693176, val acc = 0.6666666865348816\n",
      "Epoch 5: last batch loss = 0.535068929195404, val acc = 0.6666666865348816\n",
      "Epoch 6: last batch loss = 0.5112147927284241, val acc = 0.6000000238418579\n",
      "Epoch 7: last batch loss = 0.48728346824645996, val acc = 0.6000000238418579\n",
      "Epoch 8: last batch loss = 0.46333351731300354, val acc = 0.6000000238418579\n",
      "Epoch 9: last batch loss = 0.43937674164772034, val acc = 0.6666666865348816\n"
     ]
    },
    {
     "data": {
      "text/plain": [
       "[[tensor(0.6670, grad_fn=<BinaryCrossEntropyWithLogitsBackward0>),\n",
       "  tensor(0.5333)],\n",
       " [tensor(0.6375, grad_fn=<BinaryCrossEntropyWithLogitsBackward0>),\n",
       "  tensor(0.5333)],\n",
       " [tensor(0.6095, grad_fn=<BinaryCrossEntropyWithLogitsBackward0>),\n",
       "  tensor(0.6000)],\n",
       " [tensor(0.5832, grad_fn=<BinaryCrossEntropyWithLogitsBackward0>),\n",
       "  tensor(0.6667)],\n",
       " [tensor(0.5583, grad_fn=<BinaryCrossEntropyWithLogitsBackward0>),\n",
       "  tensor(0.6667)],\n",
       " [tensor(0.5351, grad_fn=<BinaryCrossEntropyWithLogitsBackward0>),\n",
       "  tensor(0.6667)],\n",
       " [tensor(0.5112, grad_fn=<BinaryCrossEntropyWithLogitsBackward0>),\n",
       "  tensor(0.6000)],\n",
       " [tensor(0.4873, grad_fn=<BinaryCrossEntropyWithLogitsBackward0>),\n",
       "  tensor(0.6000)],\n",
       " [tensor(0.4633, grad_fn=<BinaryCrossEntropyWithLogitsBackward0>),\n",
       "  tensor(0.6000)],\n",
       " [tensor(0.4394, grad_fn=<BinaryCrossEntropyWithLogitsBackward0>),\n",
       "  tensor(0.6667)]]"
      ]
     },
     "execution_count": 40,
     "metadata": {},
     "output_type": "execute_result"
    }
   ],
   "source": [
    "train(net,dataloader,val_x,val_lab,lr=0.005)"
   ]
  },
  {
   "cell_type": "code",
   "execution_count": 41,
   "metadata": {},
   "outputs": [
    {
     "name": "stdout",
     "output_type": "stream",
     "text": [
      "Epoch 0: last batch loss = 0.7446527481079102, val acc = 0.4000000059604645\n",
      "Epoch 1: last batch loss = 0.695296049118042, val acc = 0.4000000059604645\n",
      "Epoch 2: last batch loss = 0.6476375460624695, val acc = 0.6666666865348816\n",
      "Epoch 3: last batch loss = 0.6014389395713806, val acc = 0.7333333492279053\n",
      "Epoch 4: last batch loss = 0.5569510459899902, val acc = 0.7333333492279053\n",
      "Epoch 5: last batch loss = 0.5144757628440857, val acc = 0.800000011920929\n",
      "Epoch 6: last batch loss = 0.4742271602153778, val acc = 0.800000011920929\n",
      "Epoch 7: last batch loss = 0.4363262355327606, val acc = 0.800000011920929\n",
      "Epoch 8: last batch loss = 0.4009028673171997, val acc = 0.800000011920929\n",
      "Epoch 9: last batch loss = 0.3681187331676483, val acc = 0.800000011920929\n"
     ]
    },
    {
     "data": {
      "image/png": "[encoded data removed]",
      "text/plain": [
       "<Figure size 640x480 with 1 Axes>"
      ]
     },
     "metadata": {},
     "output_type": "display_data"
    }
   ],
   "source": [
    "# Plotes the graphs of loss function and accuracy and validation data during training\n",
    "def plot_training_loss_acc(loss_acc):\n",
    "    fig, ax = plt.subplots(1,1)\n",
    "    ax.set_xlabel('epoch')\n",
    "    ax.legend(ax.lines, ['last batch loss', 'validation accuracy'], loc='upper center', ncol = 2)\n",
    "\n",
    "    loss_list=[]\n",
    "    acc_list=[]\n",
    "    for epoch in loss_acc:\n",
    "        try:\n",
    "            loss_list.append(epoch[0].detach_())\n",
    "        except AttributeError:\n",
    "            loss_list.append(epoch[0])\n",
    "        try:\n",
    "            acc_list.append(epoch[1].detach_())\n",
    "        except AttributeError:\n",
    "            acc_list.append(epoch[1]) \n",
    "\n",
    "    ax.plot(range(len(loss_acc)), loss_list, 'k--', label='last batch loss')\n",
    "    ax.plot(range(len(loss_acc)), acc_list, 'g-', label='validation accuracy')\n",
    "\n",
    "    plt.legend()\n",
    "    plt.show()\n",
    "\n",
    "net = MyNet(func=torch.nn.ReLU())\n",
    "loss_acc=train(net,dataloader,val_x,val_lab,lr=0.005)\n",
    "plot_training_loss_acc(loss_acc)"
   ]
  },
  {
   "cell_type": "code",
   "execution_count": 42,
   "metadata": {},
   "outputs": [],
   "source": [
    "# Solves MNIST classificiation problem using this code. Uses crossentropy_with_logits as a loss function.\n",
    "\n",
    "import gzip\n",
    "import pickle\n",
    "import sys\n",
    "\n",
    "with gzip.open('mnist.pkl.gz', 'rb') as mnist_pickle:   \n",
    "    # If the Python version is greater than 2, it uses the encoding='latin1' parameter when calling pickle.load()\n",
    "    # In Python 3.x, the pickle module expects Unicode strings by default, and the 'latin1' encoding ensures that the binary data is loaded correctly.                              \n",
    "    if sys.version_info.major > 2:\n",
    "        MNIST = pickle.load(mnist_pickle, encoding='latin1')\n",
    "    # If the Python version is 2.x or lower, the code falls back to the regular pickle.load() without specifying the encoding parameter.     \n",
    "    else:          \n",
    "        MNIST = pickle.load(mnist_pickle)"
   ]
  },
  {
   "cell_type": "code",
   "execution_count": 43,
   "metadata": {},
   "outputs": [],
   "source": [
    "from sklearn.model_selection import train_test_split\n",
    "\n",
    "labels = MNIST[0][1]    # MNIST['Train']['Labels']\n",
    "features = MNIST[0][0]  # MNIST['Train']['Features']\n",
    "\n",
    "features_train, features_test, labels_train, labels_test = train_test_split(features,labels,test_size=0.2, shuffle=True)\n"
   ]
  },
  {
   "cell_type": "code",
   "execution_count": 44,
   "metadata": {},
   "outputs": [
    {
     "name": "stderr",
     "output_type": "stream",
     "text": [
      "C:\\Users\\User\\AppData\\Local\\Temp\\ipykernel_17440\\156136733.py:5: UserWarning: To copy construct from a tensor, it is recommended to use sourceTensor.clone().detach() or sourceTensor.clone().detach().requires_grad_(True), rather than torch.tensor(sourceTensor).\n",
      "  mnist_dataset = torch.utils.data.TensorDataset(torch.tensor(features_train),torch.tensor(one_hot_labels,dtype=torch.float32))\n"
     ]
    },
    {
     "data": {
      "text/plain": [
       "[tensor([[0., 0., 0.,  ..., 0., 0., 0.],\n",
       "         [0., 0., 0.,  ..., 0., 0., 0.],\n",
       "         [0., 0., 0.,  ..., 0., 0., 0.],\n",
       "         ...,\n",
       "         [0., 0., 0.,  ..., 0., 0., 0.],\n",
       "         [0., 0., 0.,  ..., 0., 0., 0.],\n",
       "         [0., 0., 0.,  ..., 0., 0., 0.]]),\n",
       " tensor([[1., 0., 0.,  ..., 0., 0., 0.],\n",
       "         [1., 0., 0.,  ..., 0., 0., 0.],\n",
       "         [0., 0., 0.,  ..., 0., 0., 0.],\n",
       "         ...,\n",
       "         [0., 0., 0.,  ..., 0., 0., 0.],\n",
       "         [0., 1., 0.,  ..., 0., 0., 0.],\n",
       "         [1., 0., 0.,  ..., 0., 0., 0.]])]"
      ]
     },
     "execution_count": 44,
     "metadata": {},
     "output_type": "execute_result"
    }
   ],
   "source": [
    "num_classes = 10\n",
    "\n",
    "one_hot_labels = torch.nn.functional.one_hot(torch.tensor(labels_train), num_classes=num_classes)\n",
    "\n",
    "mnist_dataset = torch.utils.data.TensorDataset(torch.tensor(features_train),torch.tensor(one_hot_labels,dtype=torch.float32))\n",
    "mnist_dataloader = torch.utils.data.DataLoader(mnist_dataset,batch_size=192)\n",
    "\n",
    "list(mnist_dataloader)[0]"
   ]
  },
  {
   "cell_type": "code",
   "execution_count": 45,
   "metadata": {},
   "outputs": [
    {
     "name": "stdout",
     "output_type": "stream",
     "text": [
      "MyNetMnist(\n",
      "  (fc1): Linear(in_features=784, out_features=30, bias=True)\n",
      "  (func): ReLU()\n",
      "  (fc2): Linear(in_features=30, out_features=10, bias=True)\n",
      ")\n"
     ]
    }
   ],
   "source": [
    "# Defining a Network as a Class\n",
    "class MyNetMnist(torch.nn.Module):   # inherited from torch.nn.Module\n",
    "    def __init__(self,hidden_size1=30,func=torch.nn.ReLU()):\n",
    "        super().__init__()\n",
    "        self.fc1 = torch.nn.Linear(784,hidden_size1)\n",
    "        self.func = func\n",
    "        self.fc2 = torch.nn.Linear(hidden_size1,10)\n",
    "\n",
    "    def forward(self,x):\n",
    "        x = self.fc1(x)\n",
    "        x = self.func(x)\n",
    "        x = self.fc2(x)\n",
    "        return torch.Tensor(x)  # Make sure x is a tensor\n",
    "\n",
    "net = MyNetMnist(func=torch.nn.ReLU())\n",
    "print(net)"
   ]
  },
  {
   "cell_type": "code",
   "execution_count": 46,
   "metadata": {},
   "outputs": [],
   "source": [
    "def train_mnist(net, dataloader, val_x, val_lab, epochs=10, lr=0.05):\n",
    "\n",
    "    epoch_data = []\n",
    "    optim = torch.optim.Adam(net.parameters(), lr=lr)\n",
    "\n",
    "    for ep in range(epochs):\n",
    "        for (x, y) in dataloader:\n",
    "            optim.zero_grad()\n",
    "            z = net(x)\n",
    "            loss = torch.nn.functional.cross_entropy(z, y) \n",
    "            loss.backward()\n",
    "            optim.step()\n",
    "\n",
    "        # Calculate validation accuracy\n",
    "        with torch.no_grad():\n",
    "            predictions = net(val_x)\n",
    "           \n",
    "            val_acc = calculate_mnist_accuracy(predictions, val_lab)\n",
    "        \n",
    "        epoch_data.append([loss,val_acc])\n",
    "        print(f\"Epoch {ep}: last batch loss = {loss}, val acc = {val_acc}\")\n",
    "\n",
    "    return epoch_data"
   ]
  },
  {
   "cell_type": "code",
   "execution_count": 47,
   "metadata": {},
   "outputs": [],
   "source": [
    "def calculate_mnist_accuracy(predictions,val_lab):\n",
    "    count = 0.0\n",
    "    for i in range(predictions.size()[0]):\n",
    "        predict = predictions[i].argmax()\n",
    "        if (predict == val_lab[i]):\n",
    "            count += 1\n",
    "    return count/predictions.size()[0]"
   ]
  },
  {
   "cell_type": "code",
   "execution_count": 48,
   "metadata": {},
   "outputs": [
    {
     "name": "stdout",
     "output_type": "stream",
     "text": [
      "Epoch 0: last batch loss = 0.13462598621845245, val acc = 0.9292\n",
      "Epoch 1: last batch loss = 0.07800685614347458, val acc = 0.9437\n",
      "Epoch 2: last batch loss = 0.051601480692625046, val acc = 0.948\n",
      "Epoch 3: last batch loss = 0.02936502918601036, val acc = 0.947\n",
      "Epoch 4: last batch loss = 0.02658400870859623, val acc = 0.9489\n",
      "Epoch 5: last batch loss = 0.013877863995730877, val acc = 0.9494\n",
      "Epoch 6: last batch loss = 0.014369850046932697, val acc = 0.9509\n",
      "Epoch 7: last batch loss = 0.0061792549677193165, val acc = 0.9483\n",
      "Epoch 8: last batch loss = 0.010829693637788296, val acc = 0.9503\n",
      "Epoch 9: last batch loss = 0.0031242817640304565, val acc = 0.9537\n"
     ]
    },
    {
     "data": {
      "image/png": "[encoded data removed]",
      "text/plain": [
       "<Figure size 640x480 with 1 Axes>"
      ]
     },
     "metadata": {},
     "output_type": "display_data"
    }
   ],
   "source": [
    "feat_tensor = torch.tensor(features_test)\n",
    "lab_tensor = torch.tensor(labels_test, dtype=float)\n",
    "\n",
    "loss_acc=train_mnist(net,mnist_dataloader,feat_tensor,lab_tensor,lr=0.01)\n",
    "\n",
    "plot_training_loss_acc(loss_acc)"
   ]
  },
  {
   "cell_type": "code",
   "execution_count": 49,
   "metadata": {},
   "outputs": [],
   "source": [
    "# Defining a Network as PyTorch Lightning Module\n",
    "\n",
    "import pytorch_lightning as pl"
   ]
  },
  {
   "cell_type": "code",
   "execution_count": 50,
   "metadata": {},
   "outputs": [],
   "source": [
    "class MyNetPL(pl.LightningModule):\n",
    "    def __init__(self, hidden_size = 10, func = torch.nn.Sigmoid()):\n",
    "        super().__init__()\n",
    "        self.fc1 = torch.nn.Linear(2,hidden_size)\n",
    "        self.func = func\n",
    "        self.fc2 = torch.nn.Linear(hidden_size,1)\n",
    "\n",
    "        self.val_epoch_num = 0 # for logging\n",
    "\n",
    "    def forward(self, x):\n",
    "        x = self.fc1(x)\n",
    "        x = self.func(x)\n",
    "        x = self.fc2(x)\n",
    "        return x\n",
    "\n",
    "    def training_step(self, batch, batch_nb):\n",
    "        x, y = batch\n",
    "        y_res = self(x).view(-1)\n",
    "        loss = torch.nn.functional.binary_cross_entropy_with_logits(y_res, y)\n",
    "        return loss\n",
    "\n",
    "    def configure_optimizers(self):\n",
    "        optimizer = torch.optim.SGD(self.parameters(), lr = 0.005)  # Stochastic Gradient Descent\n",
    "        return optimizer\n",
    "    \n",
    "    def validation_step(self, batch, batch_nb):\n",
    "        x, y = batch\n",
    "        y_res = self(x).view(-1)\n",
    "        val_loss = torch.nn.functional.binary_cross_entropy_with_logits(y_res, y)\n",
    "        print(\"Epoch \", self.val_epoch_num, \": val loss = \", val_loss.item(), \" val acc = \",((torch.sigmoid(y_res.flatten())>0.5).float()==y).float().mean().item(),  sep = \"\")\n",
    "        self.val_epoch_num += 1"
   ]
  },
  {
   "cell_type": "code",
   "execution_count": 51,
   "metadata": {},
   "outputs": [],
   "source": [
    "valid_dataset = torch.utils.data.TensorDataset(torch.tensor(valid_x),torch.tensor(valid_labels,dtype=torch.float32))\n",
    "valid_dataloader = torch.utils.data.DataLoader(valid_dataset, batch_size = 16)"
   ]
  },
  {
   "cell_type": "code",
   "execution_count": 52,
   "metadata": {},
   "outputs": [
    {
     "data": {
      "text/plain": [
       "False"
      ]
     },
     "execution_count": 52,
     "metadata": {},
     "output_type": "execute_result"
    }
   ],
   "source": [
    "torch.cuda.is_available()   # My graphics card does not support CUDA"
   ]
  },
  {
   "cell_type": "code",
   "execution_count": 53,
   "metadata": {},
   "outputs": [
    {
     "name": "stderr",
     "output_type": "stream",
     "text": [
      "GPU available: False, used: False\n",
      "TPU available: False, using: 0 TPU cores\n",
      "IPU available: False, using: 0 IPUs\n",
      "HPU available: False, using: 0 HPUs\n",
      "\n",
      "  | Name | Type   | Params\n",
      "--------------------------------\n",
      "0 | fc1  | Linear | 30    \n",
      "1 | func | ReLU   | 0     \n",
      "2 | fc2  | Linear | 11    \n",
      "--------------------------------\n",
      "41        Trainable params\n",
      "0         Non-trainable params\n",
      "41        Total params\n",
      "0.000     Total estimated model params size (MB)\n"
     ]
    },
    {
     "data": {
      "application/vnd.jupyter.widget-view+json": {
       "model_id": "d67806ad64c94848a2034f47a7d2fe2f",
       "version_major": 2,
       "version_minor": 0
      },
      "text/plain": [
       "Sanity Checking: 0it [00:00, ?it/s]"
      ]
     },
     "metadata": {},
     "output_type": "display_data"
    },
    {
     "name": "stdout",
     "output_type": "stream",
     "text": [
      "Epoch 0: val loss = 0.7554184198379517 val acc = 0.3333333432674408\n"
     ]
    },
    {
     "name": "stderr",
     "output_type": "stream",
     "text": [
      "C:\\Users\\User\\AppData\\Local\\Packages\\PythonSoftwareFoundation.Python.3.11_qbz5n2kfra8p0\\LocalCache\\local-packages\\Python311\\site-packages\\pytorch_lightning\\trainer\\connectors\\data_connector.py:442: PossibleUserWarning: The dataloader, val_dataloader, does not have many workers which may be a bottleneck. Consider increasing the value of the `num_workers` argument` (try 4 which is the number of cpus on this machine) in the `DataLoader` init to improve performance.\n",
      "  rank_zero_warn(\n",
      "C:\\Users\\User\\AppData\\Local\\Packages\\PythonSoftwareFoundation.Python.3.11_qbz5n2kfra8p0\\LocalCache\\local-packages\\Python311\\site-packages\\pytorch_lightning\\trainer\\connectors\\data_connector.py:442: PossibleUserWarning: The dataloader, train_dataloader, does not have many workers which may be a bottleneck. Consider increasing the value of the `num_workers` argument` (try 4 which is the number of cpus on this machine) in the `DataLoader` init to improve performance.\n",
      "  rank_zero_warn(\n"
     ]
    },
    {
     "data": {
      "application/vnd.jupyter.widget-view+json": {
       "model_id": "8c2b76bd490f4ac796f6059ad91f2855",
       "version_major": 2,
       "version_minor": 0
      },
      "text/plain": [
       "Training: 0it [00:00, ?it/s]"
      ]
     },
     "metadata": {},
     "output_type": "display_data"
    },
    {
     "data": {
      "application/vnd.jupyter.widget-view+json": {
       "model_id": "021e8a767d0f4081a2a066f44b7b85fb",
       "version_major": 2,
       "version_minor": 0
      },
      "text/plain": [
       "Validation: 0it [00:00, ?it/s]"
      ]
     },
     "metadata": {},
     "output_type": "display_data"
    },
    {
     "name": "stdout",
     "output_type": "stream",
     "text": [
      "Epoch 1: val loss = 0.7471545934677124 val acc = 0.3333333432674408\n"
     ]
    },
    {
     "data": {
      "application/vnd.jupyter.widget-view+json": {
       "model_id": "5b2be7608674420b8429327fe0772c7a",
       "version_major": 2,
       "version_minor": 0
      },
      "text/plain": [
       "Validation: 0it [00:00, ?it/s]"
      ]
     },
     "metadata": {},
     "output_type": "display_data"
    },
    {
     "name": "stdout",
     "output_type": "stream",
     "text": [
      "Epoch 2: val loss = 0.7392627596855164 val acc = 0.3333333432674408\n"
     ]
    },
    {
     "data": {
      "application/vnd.jupyter.widget-view+json": {
       "model_id": "4e5906e489244f4e844dc9dd2b290061",
       "version_major": 2,
       "version_minor": 0
      },
      "text/plain": [
       "Validation: 0it [00:00, ?it/s]"
      ]
     },
     "metadata": {},
     "output_type": "display_data"
    },
    {
     "name": "stdout",
     "output_type": "stream",
     "text": [
      "Epoch 3: val loss = 0.7316997051239014 val acc = 0.3333333432674408\n"
     ]
    },
    {
     "data": {
      "application/vnd.jupyter.widget-view+json": {
       "model_id": "c0971e63b5ae4f41a576fcafd60bec7a",
       "version_major": 2,
       "version_minor": 0
      },
      "text/plain": [
       "Validation: 0it [00:00, ?it/s]"
      ]
     },
     "metadata": {},
     "output_type": "display_data"
    },
    {
     "name": "stdout",
     "output_type": "stream",
     "text": [
      "Epoch 4: val loss = 0.7244701385498047 val acc = 0.3333333432674408\n"
     ]
    },
    {
     "data": {
      "application/vnd.jupyter.widget-view+json": {
       "model_id": "7872960794164bfea710b1a6c19cf0d2",
       "version_major": 2,
       "version_minor": 0
      },
      "text/plain": [
       "Validation: 0it [00:00, ?it/s]"
      ]
     },
     "metadata": {},
     "output_type": "display_data"
    },
    {
     "name": "stdout",
     "output_type": "stream",
     "text": [
      "Epoch 5: val loss = 0.7175554037094116 val acc = 0.3333333432674408\n"
     ]
    },
    {
     "data": {
      "application/vnd.jupyter.widget-view+json": {
       "model_id": "efdc5942d2c842beb3c2787a7eaa5677",
       "version_major": 2,
       "version_minor": 0
      },
      "text/plain": [
       "Validation: 0it [00:00, ?it/s]"
      ]
     },
     "metadata": {},
     "output_type": "display_data"
    },
    {
     "name": "stdout",
     "output_type": "stream",
     "text": [
      "Epoch 6: val loss = 0.7109320163726807 val acc = 0.3333333432674408\n"
     ]
    },
    {
     "data": {
      "application/vnd.jupyter.widget-view+json": {
       "model_id": "80555d57530e42c2a886f61741fd3aaa",
       "version_major": 2,
       "version_minor": 0
      },
      "text/plain": [
       "Validation: 0it [00:00, ?it/s]"
      ]
     },
     "metadata": {},
     "output_type": "display_data"
    },
    {
     "name": "stdout",
     "output_type": "stream",
     "text": [
      "Epoch 7: val loss = 0.704568088054657 val acc = 0.46666666865348816\n"
     ]
    },
    {
     "data": {
      "application/vnd.jupyter.widget-view+json": {
       "model_id": "19ed60ecf4bf4c9288274c9ac03b1290",
       "version_major": 2,
       "version_minor": 0
      },
      "text/plain": [
       "Validation: 0it [00:00, ?it/s]"
      ]
     },
     "metadata": {},
     "output_type": "display_data"
    },
    {
     "name": "stdout",
     "output_type": "stream",
     "text": [
      "Epoch 8: val loss = 0.6984495520591736 val acc = 0.46666666865348816\n"
     ]
    },
    {
     "data": {
      "application/vnd.jupyter.widget-view+json": {
       "model_id": "4db2f73be1604f51b64fd69708264aaa",
       "version_major": 2,
       "version_minor": 0
      },
      "text/plain": [
       "Validation: 0it [00:00, ?it/s]"
      ]
     },
     "metadata": {},
     "output_type": "display_data"
    },
    {
     "name": "stdout",
     "output_type": "stream",
     "text": [
      "Epoch 9: val loss = 0.6926054358482361 val acc = 0.46666666865348816\n"
     ]
    },
    {
     "data": {
      "application/vnd.jupyter.widget-view+json": {
       "model_id": "b2f0219fa09b4426b04bee1f696ed01f",
       "version_major": 2,
       "version_minor": 0
      },
      "text/plain": [
       "Validation: 0it [00:00, ?it/s]"
      ]
     },
     "metadata": {},
     "output_type": "display_data"
    },
    {
     "name": "stdout",
     "output_type": "stream",
     "text": [
      "Epoch 10: val loss = 0.6869792342185974 val acc = 0.46666666865348816\n"
     ]
    },
    {
     "data": {
      "application/vnd.jupyter.widget-view+json": {
       "model_id": "2b7640ad57744e008dc552816713bcb4",
       "version_major": 2,
       "version_minor": 0
      },
      "text/plain": [
       "Validation: 0it [00:00, ?it/s]"
      ]
     },
     "metadata": {},
     "output_type": "display_data"
    },
    {
     "name": "stdout",
     "output_type": "stream",
     "text": [
      "Epoch 11: val loss = 0.6815592646598816 val acc = 0.5333333611488342\n"
     ]
    },
    {
     "data": {
      "application/vnd.jupyter.widget-view+json": {
       "model_id": "57b9fd5ded864b9da41b253588831406",
       "version_major": 2,
       "version_minor": 0
      },
      "text/plain": [
       "Validation: 0it [00:00, ?it/s]"
      ]
     },
     "metadata": {},
     "output_type": "display_data"
    },
    {
     "name": "stdout",
     "output_type": "stream",
     "text": [
      "Epoch 12: val loss = 0.6763757467269897 val acc = 0.6000000238418579\n"
     ]
    },
    {
     "data": {
      "application/vnd.jupyter.widget-view+json": {
       "model_id": "5a1ff7dc5821450682b9aaf4e2c1d6ae",
       "version_major": 2,
       "version_minor": 0
      },
      "text/plain": [
       "Validation: 0it [00:00, ?it/s]"
      ]
     },
     "metadata": {},
     "output_type": "display_data"
    },
    {
     "name": "stdout",
     "output_type": "stream",
     "text": [
      "Epoch 13: val loss = 0.6714256405830383 val acc = 0.7333333492279053\n"
     ]
    },
    {
     "data": {
      "application/vnd.jupyter.widget-view+json": {
       "model_id": "21fb0669cd514e808af78e1fcd51ccd4",
       "version_major": 2,
       "version_minor": 0
      },
      "text/plain": [
       "Validation: 0it [00:00, ?it/s]"
      ]
     },
     "metadata": {},
     "output_type": "display_data"
    },
    {
     "name": "stdout",
     "output_type": "stream",
     "text": [
      "Epoch 14: val loss = 0.6666844487190247 val acc = 0.7333333492279053\n"
     ]
    },
    {
     "data": {
      "application/vnd.jupyter.widget-view+json": {
       "model_id": "ce9580436e3c47de8d686ccd9a641fe2",
       "version_major": 2,
       "version_minor": 0
      },
      "text/plain": [
       "Validation: 0it [00:00, ?it/s]"
      ]
     },
     "metadata": {},
     "output_type": "display_data"
    },
    {
     "name": "stdout",
     "output_type": "stream",
     "text": [
      "Epoch 15: val loss = 0.6621516346931458 val acc = 0.7333333492279053\n"
     ]
    },
    {
     "data": {
      "application/vnd.jupyter.widget-view+json": {
       "model_id": "0ea9a07ee16f4b20a2468289ce317abf",
       "version_major": 2,
       "version_minor": 0
      },
      "text/plain": [
       "Validation: 0it [00:00, ?it/s]"
      ]
     },
     "metadata": {},
     "output_type": "display_data"
    },
    {
     "name": "stdout",
     "output_type": "stream",
     "text": [
      "Epoch 16: val loss = 0.6578187942504883 val acc = 0.800000011920929\n"
     ]
    },
    {
     "data": {
      "application/vnd.jupyter.widget-view+json": {
       "model_id": "2f6f08d1b5874a1fab46b81f1f054843",
       "version_major": 2,
       "version_minor": 0
      },
      "text/plain": [
       "Validation: 0it [00:00, ?it/s]"
      ]
     },
     "metadata": {},
     "output_type": "display_data"
    },
    {
     "name": "stdout",
     "output_type": "stream",
     "text": [
      "Epoch 17: val loss = 0.6536247730255127 val acc = 0.8666666746139526\n"
     ]
    },
    {
     "data": {
      "application/vnd.jupyter.widget-view+json": {
       "model_id": "5fc396d013c54507b9913ad88bf3e803",
       "version_major": 2,
       "version_minor": 0
      },
      "text/plain": [
       "Validation: 0it [00:00, ?it/s]"
      ]
     },
     "metadata": {},
     "output_type": "display_data"
    },
    {
     "name": "stdout",
     "output_type": "stream",
     "text": [
      "Epoch 18: val loss = 0.6495705842971802 val acc = 0.8666666746139526\n"
     ]
    },
    {
     "data": {
      "application/vnd.jupyter.widget-view+json": {
       "model_id": "37a9bcae11f943a0a2902347995f93ad",
       "version_major": 2,
       "version_minor": 0
      },
      "text/plain": [
       "Validation: 0it [00:00, ?it/s]"
      ]
     },
     "metadata": {},
     "output_type": "display_data"
    },
    {
     "name": "stdout",
     "output_type": "stream",
     "text": [
      "Epoch 19: val loss = 0.6456567645072937 val acc = 0.800000011920929\n"
     ]
    },
    {
     "data": {
      "application/vnd.jupyter.widget-view+json": {
       "model_id": "4f5574af4bc84e2687589e93e3287f27",
       "version_major": 2,
       "version_minor": 0
      },
      "text/plain": [
       "Validation: 0it [00:00, ?it/s]"
      ]
     },
     "metadata": {},
     "output_type": "display_data"
    },
    {
     "name": "stdout",
     "output_type": "stream",
     "text": [
      "Epoch 20: val loss = 0.6418784856796265 val acc = 0.800000011920929\n"
     ]
    },
    {
     "data": {
      "application/vnd.jupyter.widget-view+json": {
       "model_id": "a82541e1603d4a4491bb80fd4b4fa171",
       "version_major": 2,
       "version_minor": 0
      },
      "text/plain": [
       "Validation: 0it [00:00, ?it/s]"
      ]
     },
     "metadata": {},
     "output_type": "display_data"
    },
    {
     "name": "stdout",
     "output_type": "stream",
     "text": [
      "Epoch 21: val loss = 0.6382129192352295 val acc = 0.800000011920929\n"
     ]
    },
    {
     "data": {
      "application/vnd.jupyter.widget-view+json": {
       "model_id": "af09fae24500440c897a7ac1defe0380",
       "version_major": 2,
       "version_minor": 0
      },
      "text/plain": [
       "Validation: 0it [00:00, ?it/s]"
      ]
     },
     "metadata": {},
     "output_type": "display_data"
    },
    {
     "name": "stdout",
     "output_type": "stream",
     "text": [
      "Epoch 22: val loss = 0.6346679925918579 val acc = 0.800000011920929\n"
     ]
    },
    {
     "data": {
      "application/vnd.jupyter.widget-view+json": {
       "model_id": "50bb985797fa45d08c0aabadb20506bd",
       "version_major": 2,
       "version_minor": 0
      },
      "text/plain": [
       "Validation: 0it [00:00, ?it/s]"
      ]
     },
     "metadata": {},
     "output_type": "display_data"
    },
    {
     "name": "stdout",
     "output_type": "stream",
     "text": [
      "Epoch 23: val loss = 0.6312316060066223 val acc = 0.800000011920929\n"
     ]
    },
    {
     "data": {
      "application/vnd.jupyter.widget-view+json": {
       "model_id": "2809f7a9197d4a529d25c5f21f4460b0",
       "version_major": 2,
       "version_minor": 0
      },
      "text/plain": [
       "Validation: 0it [00:00, ?it/s]"
      ]
     },
     "metadata": {},
     "output_type": "display_data"
    },
    {
     "name": "stdout",
     "output_type": "stream",
     "text": [
      "Epoch 24: val loss = 0.627902626991272 val acc = 0.800000011920929\n"
     ]
    },
    {
     "data": {
      "application/vnd.jupyter.widget-view+json": {
       "model_id": "59fa1ad21bb74a9daf2e10eb993f800e",
       "version_major": 2,
       "version_minor": 0
      },
      "text/plain": [
       "Validation: 0it [00:00, ?it/s]"
      ]
     },
     "metadata": {},
     "output_type": "display_data"
    },
    {
     "name": "stdout",
     "output_type": "stream",
     "text": [
      "Epoch 25: val loss = 0.6246788501739502 val acc = 0.800000011920929\n"
     ]
    },
    {
     "data": {
      "application/vnd.jupyter.widget-view+json": {
       "model_id": "75e42a78f04544d68f1254611b8a5cd6",
       "version_major": 2,
       "version_minor": 0
      },
      "text/plain": [
       "Validation: 0it [00:00, ?it/s]"
      ]
     },
     "metadata": {},
     "output_type": "display_data"
    },
    {
     "name": "stdout",
     "output_type": "stream",
     "text": [
      "Epoch 26: val loss = 0.6215543746948242 val acc = 0.800000011920929\n"
     ]
    },
    {
     "data": {
      "application/vnd.jupyter.widget-view+json": {
       "model_id": "a42a2ce33a00456faaf4445c8a9aadac",
       "version_major": 2,
       "version_minor": 0
      },
      "text/plain": [
       "Validation: 0it [00:00, ?it/s]"
      ]
     },
     "metadata": {},
     "output_type": "display_data"
    },
    {
     "name": "stdout",
     "output_type": "stream",
     "text": [
      "Epoch 27: val loss = 0.6185197234153748 val acc = 0.800000011920929\n"
     ]
    },
    {
     "data": {
      "application/vnd.jupyter.widget-view+json": {
       "model_id": "a3a2e0061bab4baa8913eaec6d3451f4",
       "version_major": 2,
       "version_minor": 0
      },
      "text/plain": [
       "Validation: 0it [00:00, ?it/s]"
      ]
     },
     "metadata": {},
     "output_type": "display_data"
    },
    {
     "name": "stdout",
     "output_type": "stream",
     "text": [
      "Epoch 28: val loss = 0.6155961751937866 val acc = 0.800000011920929\n"
     ]
    },
    {
     "data": {
      "application/vnd.jupyter.widget-view+json": {
       "model_id": "af9bc451305d4a409bab08c623918912",
       "version_major": 2,
       "version_minor": 0
      },
      "text/plain": [
       "Validation: 0it [00:00, ?it/s]"
      ]
     },
     "metadata": {},
     "output_type": "display_data"
    },
    {
     "name": "stdout",
     "output_type": "stream",
     "text": [
      "Epoch 29: val loss = 0.6127569079399109 val acc = 0.800000011920929\n"
     ]
    },
    {
     "data": {
      "application/vnd.jupyter.widget-view+json": {
       "model_id": "997c165f857b4f7095ed2c7e4d47dc7b",
       "version_major": 2,
       "version_minor": 0
      },
      "text/plain": [
       "Validation: 0it [00:00, ?it/s]"
      ]
     },
     "metadata": {},
     "output_type": "display_data"
    },
    {
     "name": "stderr",
     "output_type": "stream",
     "text": [
      "`Trainer.fit` stopped: `max_epochs=30` reached.\n"
     ]
    },
    {
     "name": "stdout",
     "output_type": "stream",
     "text": [
      "Epoch 30: val loss = 0.6100025177001953 val acc = 0.800000011920929\n"
     ]
    }
   ],
   "source": [
    "net = MyNetPL(func=torch.nn.ReLU())\n",
    "trainer = pl.Trainer(max_epochs = 30, log_every_n_steps = 1, devices=1)  # implemented through an object of the Trainer class, which essentially \"mixes\" the model with any datasets.\n",
    "trainer.fit(model = net, train_dataloaders = dataloader, val_dataloaders = valid_dataloader)\n"
   ]
  }
 ],
 "metadata": {
  "kernelspec": {
   "display_name": "Python 3",
   "language": "python",
   "name": "python3"
  },
  "language_info": {
   "codemirror_mode": {
    "name": "ipython",
    "version": 3
   },
   "file_extension": ".py",
   "mimetype": "text/x-python",
   "name": "python",
   "nbconvert_exporter": "python",
   "pygments_lexer": "ipython3",
   "version": "3.11.6"
  },
  "orig_nbformat": 4
 },
 "nbformat": 4,
 "nbformat_minor": 2
}
