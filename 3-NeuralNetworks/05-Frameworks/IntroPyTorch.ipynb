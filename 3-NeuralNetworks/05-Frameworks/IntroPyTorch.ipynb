{
 "cells": [
  {
   "cell_type": "code",
   "execution_count": 23,
   "metadata": {},
   "outputs": [
    {
     "data": {
      "text/plain": [
       "'2.0.1+cpu'"
      ]
     },
     "execution_count": 23,
     "metadata": {},
     "output_type": "execute_result"
    }
   ],
   "source": [
    "# make sure that you have recent version of PyTorch installed\n",
    "import torch\n",
    "torch.__version__"
   ]
  },
  {
   "cell_type": "code",
   "execution_count": 24,
   "metadata": {},
   "outputs": [
    {
     "name": "stdout",
     "output_type": "stream",
     "text": [
      "tensor([[1, 2],\n",
      "        [3, 4]])\n",
      "tensor([[ 1.0470,  0.5441,  1.2218],\n",
      "        [ 1.2238,  0.0106, -0.1595],\n",
      "        [-1.0932,  1.5932, -0.6957],\n",
      "        [-1.2942,  0.3113, -0.8959],\n",
      "        [ 1.4972, -1.5110,  1.5190],\n",
      "        [ 0.8742,  1.4552,  0.7550],\n",
      "        [ 0.7687, -0.3321,  0.7104],\n",
      "        [-1.1806,  1.1466, -0.6819],\n",
      "        [ 0.1550,  2.7095,  1.1375],\n",
      "        [-0.5626,  0.6221,  0.2533]])\n"
     ]
    }
   ],
   "source": [
    "# Simple Tensors\n",
    "\n",
    "a = torch.tensor([[1,2],[3,4]])\n",
    "print(a)\n",
    "a = torch.randn(size=(10,3))\n",
    "print(a)"
   ]
  },
  {
   "cell_type": "code",
   "execution_count": 25,
   "metadata": {},
   "outputs": [
    {
     "name": "stdout",
     "output_type": "stream",
     "text": [
      "tensor([[ 0.0000,  0.0000,  0.0000],\n",
      "        [ 0.1768, -0.5336, -1.3814],\n",
      "        [-2.1402,  1.0490, -1.9175],\n",
      "        [-2.3412, -0.2328, -2.1178],\n",
      "        [ 0.4501, -2.0551,  0.2972],\n",
      "        [-0.1728,  0.9110, -0.4668],\n",
      "        [-0.2783, -0.8763, -0.5114],\n",
      "        [-2.2276,  0.6025, -1.9038],\n",
      "        [-0.8920,  2.1654, -0.0844],\n",
      "        [-1.6096,  0.0779, -0.9686]])\n",
      "[2.8491354 1.7231207 3.3934588]\n"
     ]
    }
   ],
   "source": [
    "print(a-a[0])\n",
    "print(torch.exp(a)[0].numpy())  # extracts numpy-array from tensor"
   ]
  },
  {
   "cell_type": "code",
   "execution_count": 26,
   "metadata": {},
   "outputs": [
    {
     "name": "stdout",
     "output_type": "stream",
     "text": [
      "Result when adding out-of-place: tensor(8)\n",
      "Result after adding in-place: tensor(8)\n"
     ]
    }
   ],
   "source": [
    "# In-place and out-of-place Operations\n",
    "\n",
    "u = torch.tensor(5)\n",
    "print(\"Result when adding out-of-place:\",u.add(torch.tensor(3)))\n",
    "u.add_(torch.tensor(3))\n",
    "print(\"Result after adding in-place:\", u)"
   ]
  },
  {
   "cell_type": "code",
   "execution_count": 27,
   "metadata": {},
   "outputs": [
    {
     "name": "stdout",
     "output_type": "stream",
     "text": [
      "tensor([1.4353, 6.5495, 3.1640])\n"
     ]
    }
   ],
   "source": [
    "# sum or all rows in a matrix\n",
    "\n",
    "s = torch.zeros_like(a[0])\n",
    "for i in a:\n",
    "  s.add_(i)\n",
    "\n",
    "print(s)"
   ]
  },
  {
   "cell_type": "code",
   "execution_count": 28,
   "metadata": {},
   "outputs": [
    {
     "data": {
      "text/plain": [
       "tensor([1.4353, 6.5495, 3.1640])"
      ]
     },
     "execution_count": 28,
     "metadata": {},
     "output_type": "execute_result"
    }
   ],
   "source": [
    "torch.sum(a,axis=0)"
   ]
  },
  {
   "cell_type": "code",
   "execution_count": 29,
   "metadata": {},
   "outputs": [
    {
     "name": "stdout",
     "output_type": "stream",
     "text": [
      "tensor([[ 0.0425,  0.1736],\n",
      "        [-0.1057, -0.1803]])\n"
     ]
    }
   ],
   "source": [
    "# Computing Gradients\n",
    "\n",
    "a = torch.randn(size=(2, 2), requires_grad=True)\n",
    "b = torch.randn(size=(2, 2))\n",
    "\n",
    "c = torch.mean(torch.sqrt(torch.square(a) + torch.square(b)))  # Do some math using `a`   -   tensor(2.2843, grad_fn=<MeanBackward0>) \n",
    "\n",
    "c.backward() # call backward() to compute all gradients\n",
    "# This function triggers automatic differentiation and computes gradients for all tensors that were involved in the computation of c.\n",
    "# In this case, it computes the gradient of c with respect to a.\n",
    "\n",
    "# What's the gradient of `c` with respect to `a`?\n",
    "print(a.grad)   # Tensor that contains the gradient values. These gradient values represent how a small change in each element of 'a' would affect the value of 'c'.\n"
   ]
  },
  {
   "cell_type": "code",
   "execution_count": 30,
   "metadata": {},
   "outputs": [
    {
     "name": "stdout",
     "output_type": "stream",
     "text": [
      "tensor([[ 0.1276,  0.5208],\n",
      "        [-0.3170, -0.5410]])\n",
      "tensor([[ 0.0425,  0.1736],\n",
      "        [-0.1057, -0.1803]])\n"
     ]
    }
   ],
   "source": [
    "c = torch.mean(torch.sqrt(torch.square(a) + torch.square(b)))\n",
    "c.backward(retain_graph=True)\n",
    "c.backward(retain_graph=True)\n",
    "print(a.grad)\n",
    "a.grad.zero_()  # to restart computing gradients from scratch, resets grad field to 0 explicitly\n",
    "c.backward()\n",
    "print(a.grad)\n"
   ]
  },
  {
   "cell_type": "code",
   "execution_count": 31,
   "metadata": {},
   "outputs": [
    {
     "name": "stdout",
     "output_type": "stream",
     "text": [
      "tensor(0.9021, grad_fn=<MeanBackward0>)\n"
     ]
    }
   ],
   "source": [
    "# For each tensor that has the requires_grad flag set to True,\n",
    "# PyTorch maintains a special function called grad_fn, which computes the derivative of the expression according to chain differentiation rule\n",
    "\n",
    "print(c)    # Here c is computed using mean function, thus grad_fn point to a function called MeanBackward."
   ]
  },
  {
   "cell_type": "code",
   "execution_count": 32,
   "metadata": {},
   "outputs": [
    {
     "name": "stdout",
     "output_type": "stream",
     "text": [
      "tensor([[ 0.2126,  0.1736],\n",
      "        [-0.1057, -0.9016]])\n"
     ]
    }
   ],
   "source": [
    "# computing Jacobians\n",
    "# if we want to compute the gradient of a tensor with respect to another tensor, PyTorch allows us to compute the product of a Jacobian matrix and a given vector.\n",
    "\n",
    "c = torch.sqrt(torch.square(a) + torch.square(b))\n",
    "c.backward(torch.eye(2)) # eye(2) means 2x2 identity matrix -    The size of v should be the same as the size of the original tensor, with respect to which we compute the gradient.\n",
    "print(a.grad)"
   ]
  },
  {
   "cell_type": "code",
   "execution_count": 33,
   "metadata": {},
   "outputs": [],
   "source": [
    "# Optimization Using Gradient Descent\n",
    "\n",
    "# Let's try to use automatic differentiation to find a minimum of a simple two-variable function f(x1, x2) = (x1-3)^2 + (x2+2)^2 .\n",
    "\n",
    "# defining starting value of x and the function f\n",
    "x = torch.zeros(2,requires_grad=True)\n",
    "f = lambda x : (x-torch.tensor([3,-2])).pow(2).sum()\n",
    "lr = 0.1"
   ]
  },
  {
   "cell_type": "code",
   "execution_count": 34,
   "metadata": {},
   "outputs": [
    {
     "name": "stdout",
     "output_type": "stream",
     "text": [
      "Step 0: x[0]=0.6000000238418579, x[1]=-0.4000000059604645\n",
      "Step 1: x[0]=1.0800000429153442, x[1]=-0.7200000286102295\n",
      "Step 2: x[0]=1.4639999866485596, x[1]=-0.9760000705718994\n",
      "Step 3: x[0]=1.7711999416351318, x[1]=-1.1808000802993774\n",
      "Step 4: x[0]=2.0169599056243896, x[1]=-1.3446400165557861\n",
      "Step 5: x[0]=2.2135679721832275, x[1]=-1.4757120609283447\n",
      "Step 6: x[0]=2.370854377746582, x[1]=-1.5805696249008179\n",
      "Step 7: x[0]=2.4966835975646973, x[1]=-1.6644556522369385\n",
      "Step 8: x[0]=2.597346782684326, x[1]=-1.7315645217895508\n",
      "Step 9: x[0]=2.677877426147461, x[1]=-1.7852516174316406\n",
      "Step 10: x[0]=2.7423019409179688, x[1]=-1.8282012939453125\n",
      "Step 11: x[0]=2.793841600418091, x[1]=-1.8625609874725342\n",
      "Step 12: x[0]=2.835073232650757, x[1]=-1.8900487422943115\n",
      "Step 13: x[0]=2.868058681488037, x[1]=-1.912039041519165\n",
      "Step 14: x[0]=2.894446849822998, x[1]=-1.929631233215332\n"
     ]
    }
   ],
   "source": [
    "for i in range(15):\n",
    "    y = f(x)\n",
    "    y.backward()\n",
    "    gr = x.grad\n",
    "    x.data.add_(-lr*gr)\n",
    "    x.grad.zero_()\n",
    "    print(\"Step {}: x[0]={}, x[1]={}\".format(i,x[0],x[1]))\n",
    "\n",
    "# we are approaching the minimum point at (3,-2)"
   ]
  },
  {
   "cell_type": "code",
   "execution_count": 35,
   "metadata": {},
   "outputs": [],
   "source": [
    "# Linear Regression\n",
    "\n",
    "# generating small synthetic dataset\n",
    "\n",
    "import numpy as np\n",
    "import matplotlib.pyplot as plt\n",
    "from sklearn.datasets import make_classification, make_regression\n",
    "from sklearn.model_selection import train_test_split\n",
    "import random"
   ]
  },
  {
   "cell_type": "code",
   "execution_count": 36,
   "metadata": {},
   "outputs": [
    {
     "data": {
      "text/plain": [
       "<matplotlib.collections.PathCollection at 0x2043dda7c10>"
      ]
     },
     "execution_count": 36,
     "metadata": {},
     "output_type": "execute_result"
    },
    {
     "data": {
      "image/png": "[encoded data removed]",
      "text/plain": [
       "<Figure size 640x480 with 1 Axes>"
      ]
     },
     "metadata": {},
     "output_type": "display_data"
    }
   ],
   "source": [
    "np.random.seed(13) # pick the seed for reproducibility - change it to explore the effects of random variations\n",
    "\n",
    "train_x = np.linspace(0, 3, 120)\n",
    "train_labels = 2 * train_x + 0.9 + np.random.randn(*train_x.shape) * 0.5    # at (*train_x.shape), * in the beginning of a function \n",
    "                                                                            # is used to unpack the elements of an iterable (e.g., a list, tuple, or array) \n",
    "                                                                            # and pass them as separate arguments to a function.\n",
    "plt.scatter(train_x,train_labels)"
   ]
  },
  {
   "cell_type": "code",
   "execution_count": 37,
   "metadata": {},
   "outputs": [],
   "source": [
    "# Let's define our model and loss function\n",
    "\n",
    "input_dim = 1\n",
    "output_dim = 1\n",
    "learning_rate = 0.1\n",
    "\n",
    "# This is our weight matrix\n",
    "w = torch.tensor([100.0],requires_grad=True,dtype=torch.float32)\n",
    "# This is our bias vector\n",
    "b = torch.zeros(size=(output_dim,),requires_grad=True)\n",
    "\n",
    "def f(x):\n",
    "    return torch.matmul(x,w) + b\n",
    "\n",
    "def compute_loss(labels, predictions):\n",
    "    return torch.mean(torch.square(labels - predictions))"
   ]
  },
  {
   "cell_type": "code",
   "execution_count": 38,
   "metadata": {},
   "outputs": [],
   "source": [
    "# training the model on a series of minibatches, uing gradient descent\n",
    "\n",
    "def train_on_batch(x, y):\n",
    "    predictions = f(x)\n",
    "    loss = compute_loss(y, predictions)\n",
    "    loss.backward()\n",
    "    w.data.sub_(learning_rate * w.grad)\n",
    "    b.data.sub_(learning_rate * b.grad)\n",
    "    w.grad.zero_()\n",
    "    b.grad.zero_()\n",
    "    return loss"
   ]
  },
  {
   "cell_type": "code",
   "execution_count": 39,
   "metadata": {},
   "outputs": [],
   "source": [
    "# Shuffle the data.\n",
    "indices = np.random.permutation(len(train_x))\n",
    "features = torch.tensor(train_x[indices],dtype=torch.float32)\n",
    "labels = torch.tensor(train_labels[indices],dtype=torch.float32)\n"
   ]
  },
  {
   "cell_type": "code",
   "execution_count": 40,
   "metadata": {},
   "outputs": [
    {
     "name": "stdout",
     "output_type": "stream",
     "text": [
      "Epoch 0: last batch loss = 94.5247\n",
      "Epoch 1: last batch loss = 9.3428\n",
      "Epoch 2: last batch loss = 1.4166\n",
      "Epoch 3: last batch loss = 0.5224\n",
      "Epoch 4: last batch loss = 0.3807\n",
      "Epoch 5: last batch loss = 0.3495\n",
      "Epoch 6: last batch loss = 0.3413\n",
      "Epoch 7: last batch loss = 0.3390\n",
      "Epoch 8: last batch loss = 0.3384\n",
      "Epoch 9: last batch loss = 0.3382\n"
     ]
    }
   ],
   "source": [
    "batch_size = 4\n",
    "for epoch in range(10):\n",
    "    for i in range(0,len(features),batch_size):\n",
    "        loss = train_on_batch(features[i:i+batch_size].view(-1,1),labels[i:i+batch_size])   # .view() method is used to reshape a tensor while keeping the same data. \n",
    "                                                                                            # -1: It tells PyTorch to compute that dimension such that it maintains the total number of elements.\n",
    "                                                                                            # 1: This specifies that you want the resulting tensor to have 1 column.\n",
    "    print('Epoch %d: last batch loss = %.4f' % (epoch, float(loss)))"
   ]
  },
  {
   "cell_type": "code",
   "execution_count": 41,
   "metadata": {},
   "outputs": [
    {
     "data": {
      "text/plain": [
       "(tensor([1.8617], requires_grad=True), tensor([1.0711], requires_grad=True))"
      ]
     },
     "execution_count": 41,
     "metadata": {},
     "output_type": "execute_result"
    }
   ],
   "source": [
    "# obtained optimized parameters W and b\n",
    "#  their values are similar to the original values used when generating the dataset (W = 2, b = 1)\n",
    "w,b"
   ]
  },
  {
   "cell_type": "code",
   "execution_count": 42,
   "metadata": {},
   "outputs": [
    {
     "data": {
      "text/plain": [
       "[<matplotlib.lines.Line2D at 0x20440086690>]"
      ]
     },
     "execution_count": 42,
     "metadata": {},
     "output_type": "execute_result"
    },
    {
     "data": {
      "image/png": "[encoded data removed]",
      "text/plain": [
       "<Figure size 640x480 with 1 Axes>"
      ]
     },
     "metadata": {},
     "output_type": "display_data"
    }
   ],
   "source": [
    "plt.scatter(train_x,train_labels)\n",
    "x = np.array([min(train_x),max(train_x)])\n",
    "\n",
    "# Disabling gradient calculation is useful for inference, when you are sure\n",
    "# that you will not call Tensor.backward(). It will reduce memory consumption for computations that would otherwise have requires_grad=True.\n",
    "with torch.no_grad():   \n",
    "    y = w.numpy()*x+b.numpy()\n",
    "plt.plot(x,y,color='red')"
   ]
  },
  {
   "cell_type": "code",
   "execution_count": 43,
   "metadata": {},
   "outputs": [
    {
     "name": "stdout",
     "output_type": "stream",
     "text": [
      "Doing computations on cpu\n",
      "Epoch 0: last batch loss = 94.5247\n",
      "Epoch 1: last batch loss = 9.3428\n",
      "Epoch 2: last batch loss = 1.4166\n",
      "Epoch 3: last batch loss = 0.5224\n",
      "Epoch 4: last batch loss = 0.3807\n",
      "Epoch 5: last batch loss = 0.3495\n",
      "Epoch 6: last batch loss = 0.3413\n",
      "Epoch 7: last batch loss = 0.3390\n",
      "Epoch 8: last batch loss = 0.3384\n",
      "Epoch 9: last batch loss = 0.3382\n"
     ]
    }
   ],
   "source": [
    "device = 'cuda' if torch.cuda.is_available() else 'cpu'\n",
    "\n",
    "print('Doing computations on '+device)\n",
    "\n",
    "### Changes here: indicate device\n",
    "w = torch.tensor([100.0],requires_grad=True,dtype=torch.float32,device=device)\n",
    "b = torch.zeros(size=(output_dim,),requires_grad=True,device=device)\n",
    "\n",
    "def f(x):\n",
    "    return torch.matmul(x,w) + b\n",
    "\n",
    "def compute_loss(labels, predictions):\n",
    "    return torch.mean(torch.square(labels - predictions))\n",
    "\n",
    "def train_on_batch(x, y):\n",
    "    predictions = f(x)\n",
    "    loss = compute_loss(y, predictions)\n",
    "    loss.backward()\n",
    "    w.data.sub_(learning_rate * w.grad)\n",
    "    b.data.sub_(learning_rate * b.grad)\n",
    "    w.grad.zero_()\n",
    "    b.grad.zero_()\n",
    "    return loss\n",
    "\n",
    "\n",
    "batch_size = 4\n",
    "for epoch in range(10):\n",
    "    for i in range(0,len(features),batch_size):\n",
    "        ### Changes here: move data to required device\n",
    "        loss = train_on_batch(features[i:i+batch_size].view(-1,1).to(device),labels[i:i+batch_size].to(device)) # move all tensors to this device using a call .to(device)\n",
    "    print('Epoch %d: last batch loss = %.4f' % (epoch, float(loss)))\n"
   ]
  },
  {
   "cell_type": "code",
   "execution_count": 44,
   "metadata": {},
   "outputs": [
    {
     "name": "stdout",
     "output_type": "stream",
     "text": [
      "None\n"
     ]
    }
   ],
   "source": [
    "print(torch.version.cuda)"
   ]
  },
  {
   "cell_type": "code",
   "execution_count": 52,
   "metadata": {},
   "outputs": [],
   "source": [
    "# Classification\n",
    "\n",
    "# generating sample data\n",
    "np.random.seed(0) # pick the seed for reproducibility - change it to explore the effects of random variations\n",
    "\n",
    "n = 100\n",
    "X, Y = make_classification(n_samples = n, n_features=2,\n",
    "                           n_redundant=0, n_informative=2, flip_y=0.1,class_sep=1.5)\n",
    "X = X.astype(np.float32)\n",
    "Y = Y.astype(np.int32)\n",
    "\n",
    "split = [ 70*n//100, (15+70)*n//100 ]   # The // operator is used for floor division\n",
    "train_x, valid_x, test_x = np.split(X, split)   # X[0:69,:], X[70:84,:], X[85:99,:]\n",
    "train_labels, valid_labels, test_labels = np.split(Y, split)    # Y[0:69,:], Y[70:84,:], Y[85:99,:]\n"
   ]
  },
  {
   "cell_type": "code",
   "execution_count": 53,
   "metadata": {},
   "outputs": [],
   "source": [
    "def plot_dataset(features, labels, W=None, b=None):\n",
    "    # prepare the plot\n",
    "    fig, ax = plt.subplots(1,1)\n",
    "    ax.set_xlabel('$x_i[0]$ -- (feature 1)')\n",
    "    ax.set_ylabel('$x_i[1]$ -- (feature 2)')\n",
    "    colors = ['r' if l else 'b' for l in labels]\n",
    "    ax.scatter(features[:, 0], features[:, 1], marker='o', c=colors, s=100, alpha=0.5)\n",
    "    if W is not None:\n",
    "        min_x = min(features[:,0])\n",
    "        max_x = max(features[:,0])\n",
    "        min_y = min(features[:,1])*(1-.1)   # equivalent to *(1-0.1) = *(0.9)\n",
    "        max_y = max(features[:,1])*(1+.1)   # equivalent to *(1+0.1) = *(1.1)\n",
    "        cx = np.array([min_x, max_x],dtype=np.float32)\n",
    "        cy = (0.5-W[0]*cx-b)/W[1]\n",
    "        ax.plot(cx,cy,'g')\n",
    "        ax.set_ylim(min_y,max_y)\n",
    "    fig.show()"
   ]
  },
  {
   "cell_type": "code",
   "execution_count": 55,
   "metadata": {},
   "outputs": [
    {
     "name": "stderr",
     "output_type": "stream",
     "text": [
      "C:\\Users\\User\\AppData\\Local\\Temp\\ipykernel_11924\\1674085984.py:17: UserWarning: Matplotlib is currently using module://matplotlib_inline.backend_inline, which is a non-GUI backend, so cannot show the figure.\n",
      "  fig.show()\n"
     ]
    },
    {
     "data": {
      "image/png": "[encoded data removed]",
      "text/plain": [
       "<Figure size 640x480 with 1 Axes>"
      ]
     },
     "metadata": {},
     "output_type": "display_data"
    }
   ],
   "source": [
    "plot_dataset(train_x,train_labels)"
   ]
  },
  {
   "cell_type": "code",
   "execution_count": null,
   "metadata": {},
   "outputs": [],
   "source": [
    "# Training One-Layer Perceptron\n",
    "\n",
    "class Network():\n",
    "  def __init__(self):\n",
    "     self.W = torch.randn(size=(2,1),requires_grad=True)\n",
    "     self.b = torch.zeros(size=(1,),requires_grad=True)\n",
    "\n",
    "  def forward(self,x):\n",
    "    return torch.matmul(x,self.W)+self.b\n",
    "\n",
    "  def zero_grad(self):\n",
    "    self.W.data.zero_() # used W.data.zero_() instead of W.zero_(), because we cannot directly modify a tensor that is being tracked using Autograd mechanism.\n",
    "    self.b.data.zero_()\n",
    "\n",
    "  def update(self,lr=0.1):\n",
    "    self.W.data.sub_(lr*self.W.grad)\n",
    "    self.b.data.sub_(lr*self.b)\n",
    "\n",
    "net = Network()"
   ]
  },
  {
   "cell_type": "code",
   "execution_count": null,
   "metadata": {},
   "outputs": [],
   "source": []
  }
 ],
 "metadata": {
  "kernelspec": {
   "display_name": "Python 3",
   "language": "python",
   "name": "python3"
  },
  "language_info": {
   "codemirror_mode": {
    "name": "ipython",
    "version": 3
   },
   "file_extension": ".py",
   "mimetype": "text/x-python",
   "name": "python",
   "nbconvert_exporter": "python",
   "pygments_lexer": "ipython3",
   "version": "3.11.5"
  },
  "orig_nbformat": 4
 },
 "nbformat": 4,
 "nbformat_minor": 2
}
