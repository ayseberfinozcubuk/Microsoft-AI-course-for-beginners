{
 "cells": [
  {
   "cell_type": "code",
   "execution_count": 177,
   "metadata": {},
   "outputs": [
    {
     "data": {
      "text/plain": [
       "'2.0.1+cpu'"
      ]
     },
     "execution_count": 177,
     "metadata": {},
     "output_type": "execute_result"
    }
   ],
   "source": [
    "# make sure that you have recent version of PyTorch installed\n",
    "import torch\n",
    "torch.__version__"
   ]
  },
  {
   "cell_type": "code",
   "execution_count": 178,
   "metadata": {},
   "outputs": [
    {
     "name": "stdout",
     "output_type": "stream",
     "text": [
      "tensor([[1, 2],\n",
      "        [3, 4]])\n",
      "tensor([[ 0.2376,  0.7790,  0.3209],\n",
      "        [ 0.3987,  1.1270,  0.8921],\n",
      "        [ 0.3091, -0.2656,  0.1692],\n",
      "        [ 2.7037, -1.5072,  1.1374],\n",
      "        [-0.5822, -0.1697, -1.8475],\n",
      "        [-1.4752, -0.4626,  0.8376],\n",
      "        [-0.8844, -0.9821, -1.0706],\n",
      "        [ 0.4913, -1.1010, -1.0494],\n",
      "        [-0.9393,  0.1589,  0.3334],\n",
      "        [ 0.4883, -0.8580, -1.0140]])\n"
     ]
    }
   ],
   "source": [
    "# Simple Tensors\n",
    "\n",
    "a = torch.tensor([[1,2],[3,4]])\n",
    "print(a)\n",
    "a = torch.randn(size=(10,3))\n",
    "print(a)"
   ]
  },
  {
   "cell_type": "code",
   "execution_count": 179,
   "metadata": {},
   "outputs": [
    {
     "name": "stdout",
     "output_type": "stream",
     "text": [
      "tensor([[ 0.0000,  0.0000,  0.0000],\n",
      "        [ 0.1612,  0.3481,  0.5712],\n",
      "        [ 0.0716, -1.0446, -0.1517],\n",
      "        [ 2.4662, -2.2862,  0.8166],\n",
      "        [-0.8198, -0.9487, -2.1684],\n",
      "        [-1.7128, -1.2416,  0.5167],\n",
      "        [-1.1220, -1.7611, -1.3914],\n",
      "        [ 0.2537, -1.8800, -1.3703],\n",
      "        [-1.1768, -0.6201,  0.0125],\n",
      "        [ 0.2508, -1.6370, -1.3349]])\n",
      "[1.2681772 2.1791992 1.3783334]\n"
     ]
    }
   ],
   "source": [
    "print(a-a[0])\n",
    "print(torch.exp(a)[0].numpy())  # extracts numpy-array from tensor"
   ]
  },
  {
   "cell_type": "code",
   "execution_count": 180,
   "metadata": {},
   "outputs": [
    {
     "name": "stdout",
     "output_type": "stream",
     "text": [
      "Result when adding out-of-place: tensor(8)\n",
      "Result after adding in-place: tensor(8)\n"
     ]
    }
   ],
   "source": [
    "# In-place and out-of-place Operations\n",
    "\n",
    "u = torch.tensor(5)\n",
    "print(\"Result when adding out-of-place:\",u.add(torch.tensor(3)))\n",
    "u.add_(torch.tensor(3))\n",
    "print(\"Result after adding in-place:\", u)"
   ]
  },
  {
   "cell_type": "code",
   "execution_count": 181,
   "metadata": {},
   "outputs": [
    {
     "name": "stdout",
     "output_type": "stream",
     "text": [
      "tensor([ 0.7477, -3.2815, -1.2909])\n"
     ]
    }
   ],
   "source": [
    "# sum or all rows in a matrix\n",
    "\n",
    "s = torch.zeros_like(a[0])\n",
    "for i in a:\n",
    "  s.add_(i)\n",
    "\n",
    "print(s)"
   ]
  },
  {
   "cell_type": "code",
   "execution_count": 182,
   "metadata": {},
   "outputs": [
    {
     "data": {
      "text/plain": [
       "tensor([ 0.7477, -3.2815, -1.2909])"
      ]
     },
     "execution_count": 182,
     "metadata": {},
     "output_type": "execute_result"
    }
   ],
   "source": [
    "torch.sum(a,axis=0)"
   ]
  },
  {
   "cell_type": "code",
   "execution_count": 183,
   "metadata": {},
   "outputs": [
    {
     "name": "stdout",
     "output_type": "stream",
     "text": [
      "tensor([[ 0.0859,  0.0752],\n",
      "        [-0.2170, -0.2436]])\n"
     ]
    }
   ],
   "source": [
    "# Computing Gradients\n",
    "\n",
    "a = torch.randn(size=(2, 2), requires_grad=True)\n",
    "b = torch.randn(size=(2, 2))\n",
    "\n",
    "c = torch.mean(torch.sqrt(torch.square(a) + torch.square(b)))  # Do some math using `a`   -   tensor(2.2843, grad_fn=<MeanBackward0>) \n",
    "\n",
    "c.backward() # call backward() to compute all gradients\n",
    "# This function triggers automatic differentiation and computes gradients for all tensors that were involved in the computation of c.\n",
    "# In this case, it computes the gradient of c with respect to a.\n",
    "\n",
    "# What's the gradient of `c` with respect to `a`?\n",
    "print(a.grad)   # Tensor that contains the gradient values. These gradient values represent how a small change in each element of 'a' would affect the value of 'c'.\n"
   ]
  },
  {
   "cell_type": "code",
   "execution_count": 184,
   "metadata": {},
   "outputs": [
    {
     "name": "stdout",
     "output_type": "stream",
     "text": [
      "tensor([[ 0.2578,  0.2255],\n",
      "        [-0.6509, -0.7309]])\n",
      "tensor([[ 0.0859,  0.0752],\n",
      "        [-0.2170, -0.2436]])\n"
     ]
    }
   ],
   "source": [
    "c = torch.mean(torch.sqrt(torch.square(a) + torch.square(b)))\n",
    "c.backward(retain_graph=True)\n",
    "c.backward(retain_graph=True)\n",
    "print(a.grad)\n",
    "a.grad.zero_()  # to restart computing gradients from scratch, resets grad field to 0 explicitly\n",
    "c.backward()\n",
    "print(a.grad)\n"
   ]
  },
  {
   "cell_type": "code",
   "execution_count": 185,
   "metadata": {},
   "outputs": [
    {
     "name": "stdout",
     "output_type": "stream",
     "text": [
      "tensor(1.6595, grad_fn=<MeanBackward0>)\n"
     ]
    }
   ],
   "source": [
    "# For each tensor that has the requires_grad flag set to True,\n",
    "# PyTorch maintains a special function called grad_fn, which computes the derivative of the expression according to chain differentiation rule\n",
    "\n",
    "print(c)    # Here c is computed using mean function, thus grad_fn point to a function called MeanBackward."
   ]
  },
  {
   "cell_type": "code",
   "execution_count": 186,
   "metadata": {},
   "outputs": [
    {
     "name": "stdout",
     "output_type": "stream",
     "text": [
      "tensor([[ 0.4296,  0.0752],\n",
      "        [-0.2170, -1.2182]])\n"
     ]
    }
   ],
   "source": [
    "# computing Jacobians\n",
    "# if we want to compute the gradient of a tensor with respect to another tensor, PyTorch allows us to compute the product of a Jacobian matrix and a given vector.\n",
    "\n",
    "c = torch.sqrt(torch.square(a) + torch.square(b))\n",
    "c.backward(torch.eye(2)) # eye(2) means 2x2 identity matrix -    The size of v should be the same as the size of the original tensor, with respect to which we compute the gradient.\n",
    "print(a.grad)"
   ]
  },
  {
   "cell_type": "code",
   "execution_count": 187,
   "metadata": {},
   "outputs": [],
   "source": [
    "# Optimization Using Gradient Descent\n",
    "\n",
    "# Let's try to use automatic differentiation to find a minimum of a simple two-variable function f(x1, x2) = (x1-3)^2 + (x2+2)^2 .\n",
    "\n",
    "# defining starting value of x and the function f\n",
    "x = torch.zeros(2,requires_grad=True)\n",
    "f = lambda x : (x-torch.tensor([3,-2])).pow(2).sum()\n",
    "lr = 0.1"
   ]
  },
  {
   "cell_type": "code",
   "execution_count": 188,
   "metadata": {},
   "outputs": [
    {
     "name": "stdout",
     "output_type": "stream",
     "text": [
      "Step 0: x[0]=0.6000000238418579, x[1]=-0.4000000059604645\n",
      "Step 1: x[0]=1.0800000429153442, x[1]=-0.7200000286102295\n",
      "Step 2: x[0]=1.4639999866485596, x[1]=-0.9760000705718994\n",
      "Step 3: x[0]=1.7711999416351318, x[1]=-1.1808000802993774\n",
      "Step 4: x[0]=2.0169599056243896, x[1]=-1.3446400165557861\n",
      "Step 5: x[0]=2.2135679721832275, x[1]=-1.4757120609283447\n",
      "Step 6: x[0]=2.370854377746582, x[1]=-1.5805696249008179\n",
      "Step 7: x[0]=2.4966835975646973, x[1]=-1.6644556522369385\n",
      "Step 8: x[0]=2.597346782684326, x[1]=-1.7315645217895508\n",
      "Step 9: x[0]=2.677877426147461, x[1]=-1.7852516174316406\n",
      "Step 10: x[0]=2.7423019409179688, x[1]=-1.8282012939453125\n",
      "Step 11: x[0]=2.793841600418091, x[1]=-1.8625609874725342\n",
      "Step 12: x[0]=2.835073232650757, x[1]=-1.8900487422943115\n",
      "Step 13: x[0]=2.868058681488037, x[1]=-1.912039041519165\n",
      "Step 14: x[0]=2.894446849822998, x[1]=-1.929631233215332\n"
     ]
    }
   ],
   "source": [
    "for i in range(15):\n",
    "    y = f(x)\n",
    "    y.backward()\n",
    "    gr = x.grad\n",
    "    x.data.add_(-lr*gr)\n",
    "    x.grad.zero_()\n",
    "    print(\"Step {}: x[0]={}, x[1]={}\".format(i,x[0],x[1]))\n",
    "\n",
    "# we are approaching the minimum point at (3,-2)"
   ]
  },
  {
   "cell_type": "code",
   "execution_count": 189,
   "metadata": {},
   "outputs": [],
   "source": [
    "# Linear Regression\n",
    "\n",
    "# generating small synthetic dataset\n",
    "\n",
    "import numpy as np\n",
    "import matplotlib.pyplot as plt\n",
    "from sklearn.datasets import make_classification, make_regression\n",
    "from sklearn.model_selection import train_test_split\n",
    "import random"
   ]
  },
  {
   "cell_type": "code",
   "execution_count": 190,
   "metadata": {},
   "outputs": [
    {
     "data": {
      "text/plain": [
       "<matplotlib.collections.PathCollection at 0x1c5e95334d0>"
      ]
     },
     "execution_count": 190,
     "metadata": {},
     "output_type": "execute_result"
    },
    {
     "data": {
      "image/png": "[encoded data removed]",
      "text/plain": [
       "<Figure size 640x480 with 1 Axes>"
      ]
     },
     "metadata": {},
     "output_type": "display_data"
    }
   ],
   "source": [
    "np.random.seed(13) # pick the seed for reproducibility - change it to explore the effects of random variations\n",
    "\n",
    "train_x = np.linspace(0, 3, 120)\n",
    "train_labels = 2 * train_x + 0.9 + np.random.randn(*train_x.shape) * 0.5    # at (*train_x.shape), * in the beginning of a function \n",
    "                                                                            # is used to unpack the elements of an iterable (e.g., a list, tuple, or array) \n",
    "                                                                            # and pass them as separate arguments to a function.\n",
    "plt.scatter(train_x,train_labels)"
   ]
  },
  {
   "cell_type": "code",
   "execution_count": 191,
   "metadata": {},
   "outputs": [],
   "source": [
    "# Let's define our model and loss function\n",
    "\n",
    "input_dim = 1\n",
    "output_dim = 1\n",
    "learning_rate = 0.1\n",
    "\n",
    "# This is our weight matrix\n",
    "w = torch.tensor([100.0],requires_grad=True,dtype=torch.float32)\n",
    "# This is our bias vector\n",
    "b = torch.zeros(size=(output_dim,),requires_grad=True)\n",
    "\n",
    "def f(x):\n",
    "    return torch.matmul(x,w) + b\n",
    "\n",
    "def compute_loss(labels, predictions):\n",
    "    return torch.mean(torch.square(labels - predictions))"
   ]
  },
  {
   "cell_type": "code",
   "execution_count": 192,
   "metadata": {},
   "outputs": [],
   "source": [
    "# training the model on a series of minibatches, uing gradient descent\n",
    "\n",
    "def train_on_batch(x, y):\n",
    "    predictions = f(x)\n",
    "    loss = compute_loss(y, predictions)\n",
    "    loss.backward()\n",
    "    w.data.sub_(learning_rate * w.grad)\n",
    "    b.data.sub_(learning_rate * b.grad)\n",
    "    w.grad.zero_()\n",
    "    b.grad.zero_()\n",
    "    return loss"
   ]
  },
  {
   "cell_type": "code",
   "execution_count": 193,
   "metadata": {},
   "outputs": [],
   "source": [
    "# Shuffle the data.\n",
    "indices = np.random.permutation(len(train_x))\n",
    "features = torch.tensor(train_x[indices],dtype=torch.float32)\n",
    "labels = torch.tensor(train_labels[indices],dtype=torch.float32)\n"
   ]
  },
  {
   "cell_type": "code",
   "execution_count": 194,
   "metadata": {},
   "outputs": [
    {
     "name": "stdout",
     "output_type": "stream",
     "text": [
      "Epoch 0: last batch loss = 94.5247\n",
      "Epoch 1: last batch loss = 9.3428\n",
      "Epoch 2: last batch loss = 1.4166\n",
      "Epoch 3: last batch loss = 0.5224\n",
      "Epoch 4: last batch loss = 0.3807\n",
      "Epoch 5: last batch loss = 0.3495\n",
      "Epoch 6: last batch loss = 0.3413\n",
      "Epoch 7: last batch loss = 0.3390\n",
      "Epoch 8: last batch loss = 0.3384\n",
      "Epoch 9: last batch loss = 0.3382\n"
     ]
    }
   ],
   "source": [
    "batch_size = 4\n",
    "for epoch in range(10):\n",
    "    for i in range(0,len(features),batch_size):\n",
    "        loss = train_on_batch(features[i:i+batch_size].view(-1,1),labels[i:i+batch_size])   # .view() method is used to reshape a tensor while keeping the same data. \n",
    "                                                                                            # -1: It tells PyTorch to compute that dimension such that it maintains the total number of elements.\n",
    "                                                                                            # 1: This specifies that you want the resulting tensor to have 1 column.\n",
    "    print('Epoch %d: last batch loss = %.4f' % (epoch, float(loss)))"
   ]
  },
  {
   "cell_type": "code",
   "execution_count": 195,
   "metadata": {},
   "outputs": [
    {
     "data": {
      "text/plain": [
       "(tensor([1.8617], requires_grad=True), tensor([1.0711], requires_grad=True))"
      ]
     },
     "execution_count": 195,
     "metadata": {},
     "output_type": "execute_result"
    }
   ],
   "source": [
    "# obtained optimized parameters W and b\n",
    "#  their values are similar to the original values used when generating the dataset (W = 2, b = 1)\n",
    "w,b"
   ]
  },
  {
   "cell_type": "code",
   "execution_count": 196,
   "metadata": {},
   "outputs": [
    {
     "data": {
      "text/plain": [
       "[<matplotlib.lines.Line2D at 0x1c5e958a250>]"
      ]
     },
     "execution_count": 196,
     "metadata": {},
     "output_type": "execute_result"
    },
    {
     "data": {
      "image/png": "[encoded data removed]",
      "text/plain": [
       "<Figure size 640x480 with 1 Axes>"
      ]
     },
     "metadata": {},
     "output_type": "display_data"
    }
   ],
   "source": [
    "plt.scatter(train_x,train_labels)\n",
    "x = np.array([min(train_x),max(train_x)])\n",
    "\n",
    "# Disabling gradient calculation is useful for inference, when you are sure\n",
    "# that you will not call Tensor.backward(). It will reduce memory consumption for computations that would otherwise have requires_grad=True.\n",
    "with torch.no_grad():   \n",
    "    y = w.numpy()*x+b.numpy()\n",
    "plt.plot(x,y,color='red')"
   ]
  },
  {
   "cell_type": "code",
   "execution_count": 197,
   "metadata": {},
   "outputs": [
    {
     "name": "stdout",
     "output_type": "stream",
     "text": [
      "Doing computations on cpu\n",
      "Epoch 0: last batch loss = 94.5247\n",
      "Epoch 1: last batch loss = 9.3428\n",
      "Epoch 2: last batch loss = 1.4166\n",
      "Epoch 3: last batch loss = 0.5224\n",
      "Epoch 4: last batch loss = 0.3807\n",
      "Epoch 5: last batch loss = 0.3495\n",
      "Epoch 6: last batch loss = 0.3413\n",
      "Epoch 7: last batch loss = 0.3390\n"
     ]
    },
    {
     "name": "stdout",
     "output_type": "stream",
     "text": [
      "Epoch 8: last batch loss = 0.3384\n",
      "Epoch 9: last batch loss = 0.3382\n"
     ]
    }
   ],
   "source": [
    "device = 'cuda' if torch.cuda.is_available() else 'cpu'\n",
    "\n",
    "print('Doing computations on '+device)\n",
    "\n",
    "### Changes here: indicate device\n",
    "w = torch.tensor([100.0],requires_grad=True,dtype=torch.float32,device=device)\n",
    "b = torch.zeros(size=(output_dim,),requires_grad=True,device=device)\n",
    "\n",
    "def f(x):\n",
    "    return torch.matmul(x,w) + b\n",
    "\n",
    "def compute_loss(labels, predictions):\n",
    "    return torch.mean(torch.square(labels - predictions))\n",
    "\n",
    "def train_on_batch(x, y):\n",
    "    predictions = f(x)\n",
    "    loss = compute_loss(y, predictions)\n",
    "    loss.backward()\n",
    "    w.data.sub_(learning_rate * w.grad)\n",
    "    b.data.sub_(learning_rate * b.grad)\n",
    "    w.grad.zero_()\n",
    "    b.grad.zero_()\n",
    "    return loss\n",
    "\n",
    "\n",
    "batch_size = 4\n",
    "for epoch in range(10):\n",
    "    for i in range(0,len(features),batch_size):\n",
    "        ### Changes here: move data to required device\n",
    "        loss = train_on_batch(features[i:i+batch_size].view(-1,1).to(device),labels[i:i+batch_size].to(device)) # move all tensors to this device using a call .to(device)\n",
    "    print('Epoch %d: last batch loss = %.4f' % (epoch, float(loss)))\n"
   ]
  },
  {
   "cell_type": "code",
   "execution_count": 198,
   "metadata": {},
   "outputs": [
    {
     "name": "stdout",
     "output_type": "stream",
     "text": [
      "None\n"
     ]
    }
   ],
   "source": [
    "print(torch.version.cuda)"
   ]
  },
  {
   "cell_type": "code",
   "execution_count": 199,
   "metadata": {},
   "outputs": [],
   "source": [
    "# Classification\n",
    "\n",
    "# generating sample data\n",
    "np.random.seed(0) # pick the seed for reproducibility - change it to explore the effects of random variations\n",
    "\n",
    "n = 100\n",
    "X, Y = make_classification(n_samples = n, n_features=2,\n",
    "                           n_redundant=0, n_informative=2, flip_y=0.1,class_sep=1.5)\n",
    "X = X.astype(np.float32)\n",
    "Y = Y.astype(np.int32)\n",
    "\n",
    "split = [ 70*n//100, (15+70)*n//100 ]   # The // operator is used for floor division\n",
    "train_x, valid_x, test_x = np.split(X, split)   # X[0:69,:], X[70:84,:], X[85:99,:]\n",
    "train_labels, valid_labels, test_labels = np.split(Y, split)    # Y[0:69,:], Y[70:84,:], Y[85:99,:]\n"
   ]
  },
  {
   "cell_type": "code",
   "execution_count": 200,
   "metadata": {},
   "outputs": [],
   "source": [
    "def plot_dataset(features, labels, W=None, b=None):\n",
    "    # prepare the plot\n",
    "    fig, ax = plt.subplots(1,1)\n",
    "    ax.set_xlabel('$x_i[0]$ -- (feature 1)')\n",
    "    ax.set_ylabel('$x_i[1]$ -- (feature 2)')\n",
    "    colors = ['r' if l else 'b' for l in labels]\n",
    "    ax.scatter(features[:, 0], features[:, 1], marker='o', c=colors, s=100, alpha=0.5)\n",
    "    if W is not None:\n",
    "        min_x = min(features[:,0])\n",
    "        max_x = max(features[:,0])\n",
    "        min_y = min(features[:,1])*(1-.1)   # equivalent to *(1-0.1) = *(0.9)\n",
    "        max_y = max(features[:,1])*(1+.1)   # equivalent to *(1+0.1) = *(1.1)\n",
    "        cx = np.array([min_x, max_x],dtype=np.float32)\n",
    "        cy = (0.5-W[0]*cx-b)/W[1]\n",
    "        ax.plot(cx,cy,'g')\n",
    "        ax.set_ylim(min_y,max_y)\n",
    "    fig.show()"
   ]
  },
  {
   "cell_type": "code",
   "execution_count": 201,
   "metadata": {},
   "outputs": [
    {
     "name": "stderr",
     "output_type": "stream",
     "text": [
      "C:\\Users\\User\\AppData\\Local\\Temp\\ipykernel_18164\\1674085984.py:17: UserWarning: FigureCanvasAgg is non-interactive, and thus cannot be shown\n",
      "  fig.show()\n"
     ]
    },
    {
     "data": {
      "image/png": "[encoded data removed]",
      "text/plain": [
       "<Figure size 640x480 with 1 Axes>"
      ]
     },
     "metadata": {},
     "output_type": "display_data"
    }
   ],
   "source": [
    "plot_dataset(train_x,train_labels)"
   ]
  },
  {
   "cell_type": "code",
   "execution_count": 202,
   "metadata": {},
   "outputs": [],
   "source": [
    "# Training One-Layer Perceptron\n",
    "\n",
    "class Network():\n",
    "  def __init__(self):\n",
    "     self.W = torch.randn(size=(2,1),requires_grad=True)\n",
    "     self.b = torch.zeros(size=(1,),requires_grad=True)\n",
    "\n",
    "  def forward(self,x):\n",
    "    return torch.matmul(x,self.W)+self.b\n",
    "\n",
    "  def zero_grad(self):\n",
    "    self.W.data.zero_() # used W.data.zero_() instead of W.zero_(), because we cannot directly modify a tensor that is being tracked using Autograd mechanism.\n",
    "    self.b.data.zero_()\n",
    "\n",
    "  def update(self,lr=0.1):\n",
    "    self.W.data.sub_(lr*self.W.grad)\n",
    "    self.b.data.sub_(lr*self.b)\n",
    "\n",
    "net = Network()"
   ]
  },
  {
   "cell_type": "code",
   "execution_count": 203,
   "metadata": {},
   "outputs": [],
   "source": [
    "# The call to binary_cross_entropy_with_logits is equivalent to a call to sigmoid, followed by a call to binary_crossentropy\n",
    "\n",
    "def train_on_batch(net, x, y):\n",
    "    z = net.forward(x).flatten()\n",
    "    loss = torch.nn.functional.binary_cross_entropy_with_logits(input=z,target=y)   # nn stands for 'neural network'\n",
    "    net.zero_grad()\n",
    "    loss.backward()\n",
    "    net.update()\n",
    "    return loss"
   ]
  },
  {
   "cell_type": "code",
   "execution_count": 204,
   "metadata": {},
   "outputs": [
    {
     "data": {
      "text/plain": [
       "[tensor([[ 1.5442,  2.5290],\n",
       "         [-1.6284,  0.0772],\n",
       "         [-1.7141,  2.4770],\n",
       "         [-1.4951,  0.7320],\n",
       "         [-1.6899,  0.9243],\n",
       "         [-0.9474, -0.7681],\n",
       "         [ 3.8597, -2.2951],\n",
       "         [-1.3944,  1.4300],\n",
       "         [ 4.3627,  3.1333],\n",
       "         [-1.0973, -1.7011],\n",
       "         [-2.5532, -0.0777],\n",
       "         [-1.2661, -0.3167],\n",
       "         [ 0.3921,  1.8406],\n",
       "         [ 2.2091, -1.6045],\n",
       "         [ 1.8383, -1.4861],\n",
       "         [ 0.7173, -0.9718]]),\n",
       " tensor([1., 0., 0., 0., 0., 0., 1., 0., 1., 0., 0., 0., 1., 1., 1., 1.])]"
      ]
     },
     "execution_count": 204,
     "metadata": {},
     "output_type": "execute_result"
    }
   ],
   "source": [
    "# Dataset is the main source of data, it can be either Iterable or Map-style\n",
    "# Dataloader is responsible for loading the data from a dataset and splitting it into minibatches.\n",
    "\n",
    "# Create a tf.data.Dataset object for easy batched iteration\n",
    "dataset = torch.utils.data.TensorDataset(torch.tensor(train_x),torch.tensor(train_labels,dtype=torch.float32))\n",
    "dataloader = torch.utils.data.DataLoader(dataset,batch_size=16)\n",
    "\n",
    "list(dataloader)[0]"
   ]
  },
  {
   "cell_type": "code",
   "execution_count": 205,
   "metadata": {},
   "outputs": [
    {
     "name": "stdout",
     "output_type": "stream",
     "text": [
      "Epoch 0: last batch loss = 0.5626\n",
      "Epoch 1: last batch loss = 0.4626\n",
      "Epoch 2: last batch loss = 0.4007\n",
      "Epoch 3: last batch loss = 0.3584\n",
      "Epoch 4: last batch loss = 0.3275\n",
      "Epoch 5: last batch loss = 0.3037\n",
      "Epoch 6: last batch loss = 0.2848\n",
      "Epoch 7: last batch loss = 0.2693\n",
      "Epoch 8: last batch loss = 0.2562\n",
      "Epoch 9: last batch loss = 0.2451\n",
      "Epoch 10: last batch loss = 0.2355\n",
      "Epoch 11: last batch loss = 0.2271\n",
      "Epoch 12: last batch loss = 0.2196\n",
      "Epoch 13: last batch loss = 0.2130\n",
      "Epoch 14: last batch loss = 0.2070\n"
     ]
    }
   ],
   "source": [
    "for epoch in range(15):\n",
    "    for (x, y) in dataloader:\n",
    "        loss = train_on_batch(net,x,y)\n",
    "    print('Epoch %d: last batch loss = %.4f' % (epoch, float(loss)))"
   ]
  },
  {
   "cell_type": "code",
   "execution_count": 206,
   "metadata": {},
   "outputs": [
    {
     "name": "stdout",
     "output_type": "stream",
     "text": [
      "tensor([[1.3882],\n",
      "        [0.3533]], requires_grad=True) tensor([0.], requires_grad=True)\n"
     ]
    }
   ],
   "source": [
    "print(net.W,net.b)"
   ]
  },
  {
   "cell_type": "code",
   "execution_count": 207,
   "metadata": {},
   "outputs": [
    {
     "name": "stderr",
     "output_type": "stream",
     "text": [
      "C:\\Users\\User\\AppData\\Local\\Temp\\ipykernel_18164\\1674085984.py:17: UserWarning: FigureCanvasAgg is non-interactive, and thus cannot be shown\n",
      "  fig.show()\n"
     ]
    },
    {
     "data": {
      "image/png": "[encoded data removed]",
      "text/plain": [
       "<Figure size 640x480 with 1 Axes>"
      ]
     },
     "metadata": {},
     "output_type": "display_data"
    }
   ],
   "source": [
    "# plotting the line that separates two classes\n",
    "# Separation line is defined by the equation W * x + b = 0.5 \n",
    "\n",
    "plot_dataset(train_x,train_labels,net.W.detach().numpy(),net.b.detach().numpy())    \n",
    "# .detach(): This function is used to create a new tensor that shares data with the original tensor (net.W) but doesn't require gradients to be computed."
   ]
  },
  {
   "cell_type": "code",
   "execution_count": 208,
   "metadata": {},
   "outputs": [
    {
     "data": {
      "text/plain": [
       "tensor(0.8000)"
      ]
     },
     "execution_count": 208,
     "metadata": {},
     "output_type": "execute_result"
    }
   ],
   "source": [
    "# computes accuracy on the validation dataset\n",
    "\n",
    "pred = torch.sigmoid(net.forward(torch.tensor(valid_x)))    # A \"sigmoid\" is a mathematical function that maps any real-valued number to a value between 0 and 1.\n",
    "torch.mean(((pred.view(-1)>0.5)==(torch.tensor(valid_labels)>0.5)).type(torch.float32))\n"
   ]
  },
  {
   "cell_type": "code",
   "execution_count": 209,
   "metadata": {},
   "outputs": [
    {
     "name": "stdout",
     "output_type": "stream",
     "text": [
      "[Parameter containing:\n",
      "tensor([[0.6110, 0.3263]], requires_grad=True), Parameter containing:\n",
      "tensor([-0.5875], requires_grad=True)]\n"
     ]
    }
   ],
   "source": [
    "# Neural Networks and Optimizers\n",
    "\n",
    "# There are two methods to define your own neural network:\n",
    "#   Sequential, where you just specify a list of layers that comprise your network\n",
    "#   As a class inherited from torch.nn.Module\n",
    "\n",
    "# Most of the activation function and loss functions in PyTorch are available in two form: \n",
    "#   as a function (inside torch.nn.functional namespace) \n",
    "#   as a layer (inside torch.nn namespace)\n",
    "\n",
    "# training one-layer perceptron\n",
    "net = torch.nn.Linear(2,1) # 2 inputs, 1 output\n",
    "\n",
    "print(list(net.parameters()))   # weight matrix M and bias b"
   ]
  },
  {
   "cell_type": "code",
   "execution_count": 210,
   "metadata": {},
   "outputs": [],
   "source": [
    "# stochastic gradient descent optimizer\n",
    "optim = torch.optim.SGD(net.parameters(),lr=0.05)"
   ]
  },
  {
   "cell_type": "code",
   "execution_count": 211,
   "metadata": {},
   "outputs": [
    {
     "name": "stdout",
     "output_type": "stream",
     "text": [
      "Epoch 0: last batch loss = 0.3620089590549469, val acc = 0.7333333492279053\n",
      "Epoch 1: last batch loss = 0.3409919738769531, val acc = 0.7333333492279053\n",
      "Epoch 2: last batch loss = 0.3233051002025604, val acc = 0.7333333492279053\n",
      "Epoch 3: last batch loss = 0.3082394003868103, val acc = 0.800000011920929\n",
      "Epoch 4: last batch loss = 0.29526233673095703, val acc = 0.800000011920929\n",
      "Epoch 5: last batch loss = 0.2839694321155548, val acc = 0.8666666746139526\n",
      "Epoch 6: last batch loss = 0.27405038475990295, val acc = 0.8666666746139526\n",
      "Epoch 7: last batch loss = 0.2652640640735626, val acc = 0.8666666746139526\n",
      "Epoch 8: last batch loss = 0.25742122530937195, val acc = 0.800000011920929\n",
      "Epoch 9: last batch loss = 0.25037166476249695, val acc = 0.800000011920929\n"
     ]
    }
   ],
   "source": [
    "# training loop\n",
    "\n",
    "val_x = torch.tensor(valid_x)\n",
    "val_lab = torch.tensor(valid_labels)\n",
    "\n",
    "for ep in range(10):\n",
    "    for (x,y) in dataloader:\n",
    "        z = net(x).flatten()    # net(x) instead of net.forward(x), because nn.Module implements Python __call__() function\n",
    "        loss = torch.nn.functional.binary_cross_entropy_with_logits(z,y)\n",
    "        optim.zero_grad()\n",
    "        loss.backward()\n",
    "        optim.step()    # parameter update\n",
    "    acc = ((torch.sigmoid(net(val_x).flatten())>0.5).float()==val_lab).float().mean()\n",
    "    print(f\"Epoch {ep}: last batch loss = {loss}, val acc = {acc}\")"
   ]
  },
  {
   "cell_type": "code",
   "execution_count": 212,
   "metadata": {},
   "outputs": [
    {
     "name": "stdout",
     "output_type": "stream",
     "text": [
      "Epoch 0: last batch loss = 0.48608848452568054, val acc = 0.800000011920929\n",
      "Epoch 1: last batch loss = 0.4124511182308197, val acc = 0.8666666746139526\n",
      "Epoch 2: last batch loss = 0.35441163182258606, val acc = 0.800000011920929\n",
      "Epoch 3: last batch loss = 0.3098998963832855, val acc = 0.800000011920929\n",
      "Epoch 4: last batch loss = 0.2760733664035797, val acc = 0.800000011920929\n",
      "Epoch 5: last batch loss = 0.25024935603141785, val acc = 0.800000011920929\n",
      "Epoch 6: last batch loss = 0.23025549948215485, val acc = 0.800000011920929\n",
      "Epoch 7: last batch loss = 0.21447479724884033, val acc = 0.800000011920929\n",
      "Epoch 8: last batch loss = 0.2017582654953003, val acc = 0.800000011920929\n",
      "Epoch 9: last batch loss = 0.1913062483072281, val acc = 0.800000011920929\n"
     ]
    }
   ],
   "source": [
    "# generic train function\n",
    "\n",
    "def train(net, dataloader, val_x, val_lab, epochs=10, lr=0.05):\n",
    "    optim = torch.optim.Adam(net.parameters(), lr=lr)   # Adam stands for \"Adaptive Moment Estimation,\"\n",
    "                                                        # combines Adagrad and RMSprop techniques\n",
    "                                                        # adaptive learning rates for each parameter\n",
    "    for ep in range(epochs):\n",
    "        for (x,y) in dataloader:\n",
    "            z = net(x).flatten()\n",
    "            loss = torch.nn.functional.binary_cross_entropy_with_logits(z,y)\n",
    "            optim.zero_grad()\n",
    "            loss.backward()\n",
    "            optim.step()\n",
    "        acc = ((torch.sigmoid(net(val_x).flatten())>0.5).float()==val_lab).float().mean()\n",
    "        print(f\"Epoch {ep}: last batch loss = {loss}, val acc = {acc}\")\n",
    "\n",
    "net = torch.nn.Linear(2,1)\n",
    "\n",
    "train(net,dataloader,val_x,val_lab,lr=0.03)\n",
    "    "
   ]
  },
  {
   "cell_type": "code",
   "execution_count": 213,
   "metadata": {},
   "outputs": [
    {
     "name": "stdout",
     "output_type": "stream",
     "text": [
      "Sequential(\n",
      "  (0): Linear(in_features=2, out_features=5, bias=True)\n",
      "  (1): Sigmoid()\n",
      "  (2): Linear(in_features=5, out_features=1, bias=True)\n",
      ")\n"
     ]
    }
   ],
   "source": [
    "# Defining Network as a Sequence of Layers\n",
    "net = torch.nn.Sequential(torch.nn.Linear(2,5),torch.nn.Sigmoid(),torch.nn.Linear(5,1))\n",
    "print(net)"
   ]
  },
  {
   "cell_type": "code",
   "execution_count": 214,
   "metadata": {},
   "outputs": [
    {
     "name": "stdout",
     "output_type": "stream",
     "text": [
      "Epoch 0: last batch loss = 0.6738813519477844, val acc = 0.5333333611488342\n",
      "Epoch 1: last batch loss = 0.607823371887207, val acc = 0.5333333611488342\n",
      "Epoch 2: last batch loss = 0.5476938486099243, val acc = 0.7333333492279053\n",
      "Epoch 3: last batch loss = 0.47144508361816406, val acc = 0.800000011920929\n"
     ]
    },
    {
     "name": "stdout",
     "output_type": "stream",
     "text": [
      "Epoch 4: last batch loss = 0.38516518473625183, val acc = 0.800000011920929\n",
      "Epoch 5: last batch loss = 0.3015025854110718, val acc = 0.800000011920929\n",
      "Epoch 6: last batch loss = 0.22967304289340973, val acc = 0.800000011920929\n",
      "Epoch 7: last batch loss = 0.17312520742416382, val acc = 0.800000011920929\n",
      "Epoch 8: last batch loss = 0.13166271150112152, val acc = 0.800000011920929\n",
      "Epoch 9: last batch loss = 0.10326526314020157, val acc = 0.800000011920929\n"
     ]
    }
   ],
   "source": [
    "train(net,dataloader,val_x,val_lab)"
   ]
  },
  {
   "cell_type": "code",
   "execution_count": 215,
   "metadata": {},
   "outputs": [
    {
     "name": "stdout",
     "output_type": "stream",
     "text": [
      "MyNet(\n",
      "  (fc1): Linear(in_features=2, out_features=10, bias=True)\n",
      "  (func): ReLU()\n",
      "  (fc2): Linear(in_features=10, out_features=1, bias=True)\n",
      ")\n"
     ]
    }
   ],
   "source": [
    "# Defining a Network as a Class\n",
    "class MyNet(torch.nn.Module):   # inherited from torch.nn.Module\n",
    "    def __init__(self,hidden_size=10,func=torch.nn.Sigmoid()):\n",
    "        super().__init__()\n",
    "        self.fc1 = torch.nn.Linear(2,hidden_size)\n",
    "        self.func = func\n",
    "        self.fc2 = torch.nn.Linear(hidden_size,1)\n",
    "\n",
    "    def forward(self,x):\n",
    "        x = self.fc1(x)\n",
    "        x = self.func(x)\n",
    "        x = self.fc2(x)\n",
    "        return torch.Tensor(x)  # Make sure x is a tensor\n",
    "\n",
    "net = MyNet(func=torch.nn.ReLU())\n",
    "print(net)"
   ]
  },
  {
   "cell_type": "code",
   "execution_count": 216,
   "metadata": {},
   "outputs": [
    {
     "name": "stdout",
     "output_type": "stream",
     "text": [
      "Epoch 0: last batch loss = 0.4830624759197235, val acc = 0.800000011920929\n",
      "Epoch 1: last batch loss = 0.44901883602142334, val acc = 0.800000011920929\n",
      "Epoch 2: last batch loss = 0.41605135798454285, val acc = 0.800000011920929\n",
      "Epoch 3: last batch loss = 0.3836852014064789, val acc = 0.800000011920929\n",
      "Epoch 4: last batch loss = 0.35397574305534363, val acc = 0.800000011920929\n"
     ]
    },
    {
     "name": "stdout",
     "output_type": "stream",
     "text": [
      "Epoch 5: last batch loss = 0.32704296708106995, val acc = 0.800000011920929\n",
      "Epoch 6: last batch loss = 0.30289801955223083, val acc = 0.800000011920929\n",
      "Epoch 7: last batch loss = 0.28136903047561646, val acc = 0.800000011920929\n",
      "Epoch 8: last batch loss = 0.2622901499271393, val acc = 0.800000011920929\n",
      "Epoch 9: last batch loss = 0.24445275962352753, val acc = 0.800000011920929\n"
     ]
    }
   ],
   "source": [
    "train(net,dataloader,val_x,val_lab,lr=0.005)"
   ]
  },
  {
   "cell_type": "code",
   "execution_count": 217,
   "metadata": {},
   "outputs": [
    {
     "name": "stdout",
     "output_type": "stream",
     "text": [
      "Epoch 0: last batch loss = 0.8345302939414978, val acc = 0.2666666805744171\n",
      "Epoch 1: last batch loss = 0.7702497839927673, val acc = 0.2666666805744171\n",
      "Epoch 2: last batch loss = 0.7113562226295471, val acc = 0.3333333432674408\n",
      "Epoch 3: last batch loss = 0.65822833776474, val acc = 0.6000000238418579\n",
      "Epoch 4: last batch loss = 0.6105953454971313, val acc = 0.6666666865348816\n",
      "Epoch 5: last batch loss = 0.5677527785301208, val acc = 0.6666666865348816\n",
      "Epoch 6: last batch loss = 0.528814971446991, val acc = 0.7333333492279053\n",
      "Epoch 7: last batch loss = 0.4934135675430298, val acc = 0.800000011920929\n",
      "Epoch 8: last batch loss = 0.4602528512477875, val acc = 0.800000011920929\n",
      "Epoch 9: last batch loss = 0.42989540100097656, val acc = 0.8666666746139526\n"
     ]
    },
    {
     "data": {
      "image/png": "[encoded data removed]",
      "text/plain": [
       "<Figure size 640x480 with 1 Axes>"
      ]
     },
     "metadata": {},
     "output_type": "display_data"
    }
   ],
   "source": [
    "# Plotes the graphs of loss function and accuracy and validation data during training\n",
    "def plot_training_loss_acc(net, dataloader, val_x, val_lab, epochs=10, lr=0.05):\n",
    "    fig, ax = plt.subplots(1,1)\n",
    "    ax.set_xlabel('epoch')\n",
    "    ax.legend(ax.lines, ['last batch loss', 'validation accuracy'], loc='upper center', ncol = 2) \n",
    "\n",
    "    optim = torch.optim.Adam(net.parameters(), lr=lr)   # Adam stands for \"Adaptive Moment Estimation,\"\n",
    "                                                        # combines Adagrad and RMSprop techniques\n",
    "                                                        # adaptive learning rates for each parameter\n",
    "    loss_values = []  # To store loss values for each epoch\n",
    "    acc_values = []   # To store accuracy values for each epoch\n",
    "    \n",
    "    for ep in range(epochs):\n",
    "        for (x,y) in dataloader:\n",
    "            z = net(x).flatten()\n",
    "            loss = torch.nn.functional.binary_cross_entropy_with_logits(z,y)\n",
    "            optim.zero_grad()\n",
    "            loss.backward()\n",
    "            optim.step()\n",
    "        acc = ((torch.sigmoid(net(val_x).flatten())>0.5).float()==val_lab).float().mean()\n",
    "\n",
    "        loss_values.append(loss.detach_())  # Append the loss value for this epoch\n",
    "        acc_values.append(acc.detach_())    # Append the accuracy value for this epoch\n",
    "        print(f\"Epoch {ep}: last batch loss = {loss}, val acc = {acc}\")\n",
    "    ax.plot(range(epochs), loss_values, 'k--', label='last batch loss')\n",
    "    ax.plot(range(epochs), acc_values, 'g-', label='validation accuracy')\n",
    "    plt.legend()\n",
    "\n",
    "    plt.show()  # Display the plot after all epochs\n",
    "\n",
    "net = MyNet(func=torch.nn.ReLU())\n",
    "plot_training_loss_acc(net,dataloader,val_x,val_lab,lr=0.005)"
   ]
  }
 ],
 "metadata": {
  "kernelspec": {
   "display_name": "Python 3",
   "language": "python",
   "name": "python3"
  },
  "language_info": {
   "codemirror_mode": {
    "name": "ipython",
    "version": 3
   },
   "file_extension": ".py",
   "mimetype": "text/x-python",
   "name": "python",
   "nbconvert_exporter": "python",
   "pygments_lexer": "ipython3",
   "version": "3.11.5"
  },
  "orig_nbformat": 4
 },
 "nbformat": 4,
 "nbformat_minor": 2
}
